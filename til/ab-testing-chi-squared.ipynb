{
 "cells": [
  {
   "cell_type": "markdown",
   "id": "a46ec093-a518-4e9c-9f11-aa72b080ff5b",
   "metadata": {},
   "source": [
    "# A/B testing with the chi-squared test\n",
    "\n",
    "A/B testing is used to \"test two variants of the same variable\". For real-world use-case scenarios, this can be:\n",
    "- Do we get more sign-ups when the sign-up button is red or blue?\n",
    "- Should we send our users one notification a day or three to get them to open the app?\n",
    "- Does adding customer testimonials increase our click through rate?\n",
    "\n",
    "There should be one thing that we change, and we should have some way of measuring the outcome (e.g. sign-up buttons clicked, times the app was opened, click through rate). \n",
    "\n",
    "Let's say you've set your A/B test up and you've let it run for a while. You now have some data (e.g. the number of sign-ups) both for your current value of the variable (e.g. red sign-up button), which we'll call the \"control\", and the other value of the variable (e.g. blue sign-up button), which we'll call the \"variant\".\n",
    "\n",
    "This is your data:"
   ]
  },
  {
   "cell_type": "code",
   "execution_count": 1,
   "id": "84e9c4bf-e070-4791-8c9f-305a05b48689",
   "metadata": {},
   "outputs": [
    {
     "data": {
      "text/html": [
       "<div>\n",
       "<style scoped>\n",
       "    .dataframe tbody tr th:only-of-type {\n",
       "        vertical-align: middle;\n",
       "    }\n",
       "\n",
       "    .dataframe tbody tr th {\n",
       "        vertical-align: top;\n",
       "    }\n",
       "\n",
       "    .dataframe thead th {\n",
       "        text-align: right;\n",
       "    }\n",
       "</style>\n",
       "<table border=\"1\" class=\"dataframe\">\n",
       "  <thead>\n",
       "    <tr style=\"text-align: right;\">\n",
       "      <th></th>\n",
       "      <th>design</th>\n",
       "      <th>sign_ups</th>\n",
       "      <th>page_views</th>\n",
       "    </tr>\n",
       "  </thead>\n",
       "  <tbody>\n",
       "    <tr>\n",
       "      <th>0</th>\n",
       "      <td>control</td>\n",
       "      <td>1513</td>\n",
       "      <td>15646</td>\n",
       "    </tr>\n",
       "    <tr>\n",
       "      <th>1</th>\n",
       "      <td>variant</td>\n",
       "      <td>1853</td>\n",
       "      <td>15130</td>\n",
       "    </tr>\n",
       "  </tbody>\n",
       "</table>\n",
       "</div>"
      ],
      "text/plain": [
       "    design  sign_ups  page_views\n",
       "0  control      1513       15646\n",
       "1  variant      1853       15130"
      ]
     },
     "execution_count": 1,
     "metadata": {},
     "output_type": "execute_result"
    }
   ],
   "source": [
    "import pandas as pd\n",
    "\n",
    "df = pd.DataFrame([\n",
    "    {\"design\": \"control\", \"sign_ups\": 1513, \"page_views\": 15646},\n",
    "    {\"design\": \"variant\", \"sign_ups\": 1853, \"page_views\": 15130},\n",
    "])\n",
    "\n",
    "df"
   ]
  },
  {
   "cell_type": "markdown",
   "id": "5e9745d2-9f2a-484c-8aef-7982d9f4e241",
   "metadata": {},
   "source": [
    "Your manager asks you if you now change the sign-up button to blue. The variant has more sign-ups for less page views, so it should be an easy yes, right?\n",
    "\n",
    "We can check the sign-up rate:"
   ]
  },
  {
   "cell_type": "code",
   "execution_count": 2,
   "id": "f60633e8-d2e5-46f9-9e3f-d6be29e303bc",
   "metadata": {},
   "outputs": [
    {
     "data": {
      "text/html": [
       "<div>\n",
       "<style scoped>\n",
       "    .dataframe tbody tr th:only-of-type {\n",
       "        vertical-align: middle;\n",
       "    }\n",
       "\n",
       "    .dataframe tbody tr th {\n",
       "        vertical-align: top;\n",
       "    }\n",
       "\n",
       "    .dataframe thead th {\n",
       "        text-align: right;\n",
       "    }\n",
       "</style>\n",
       "<table border=\"1\" class=\"dataframe\">\n",
       "  <thead>\n",
       "    <tr style=\"text-align: right;\">\n",
       "      <th></th>\n",
       "      <th>design</th>\n",
       "      <th>sign_ups</th>\n",
       "      <th>page_views</th>\n",
       "      <th>signup_rate</th>\n",
       "    </tr>\n",
       "  </thead>\n",
       "  <tbody>\n",
       "    <tr>\n",
       "      <th>0</th>\n",
       "      <td>control</td>\n",
       "      <td>1513</td>\n",
       "      <td>15646</td>\n",
       "      <td>0.096702</td>\n",
       "    </tr>\n",
       "    <tr>\n",
       "      <th>1</th>\n",
       "      <td>variant</td>\n",
       "      <td>1853</td>\n",
       "      <td>15130</td>\n",
       "      <td>0.122472</td>\n",
       "    </tr>\n",
       "  </tbody>\n",
       "</table>\n",
       "</div>"
      ],
      "text/plain": [
       "    design  sign_ups  page_views  signup_rate\n",
       "0  control      1513       15646     0.096702\n",
       "1  variant      1853       15130     0.122472"
      ]
     },
     "execution_count": 2,
     "metadata": {},
     "output_type": "execute_result"
    }
   ],
   "source": [
    "df[\"signup_rate\"] = df[\"sign_ups\"] / df[\"page_views\"]\n",
    "\n",
    "df"
   ]
  },
  {
   "cell_type": "markdown",
   "id": "190bd319-bb2c-4faf-99a9-eed2bb46cf61",
   "metadata": {},
   "source": [
    "The sign-up rate for the blue button is definitely higher, but is it high enough? What if this is all due to random chance and the people shown the variant would've also signed up no matter what the color of the button? \n",
    "\n",
    "This is where the chi-squared test comes in! (Note: there's a few different chi-square tests, the one we're using is [Pearson's chi-squared test](https://en.wikipedia.org/wiki/Pearson%27s_chi-squared_test)). The chi-squared test is used to evaluate how likely it is that an observed difference between outcomes arose by chance.\n",
    "\n",
    "First, we need to re-structure our data. Instead of page views, we need sign-ups and did not sign-ups. We can then drop the remaining columns (remembering that row index zero is the control, and row index one is the variant)."
   ]
  },
  {
   "cell_type": "code",
   "execution_count": 3,
   "id": "d26c5191-ff45-4c1b-91a3-61d6883517cd",
   "metadata": {},
   "outputs": [
    {
     "data": {
      "text/html": [
       "<div>\n",
       "<style scoped>\n",
       "    .dataframe tbody tr th:only-of-type {\n",
       "        vertical-align: middle;\n",
       "    }\n",
       "\n",
       "    .dataframe tbody tr th {\n",
       "        vertical-align: top;\n",
       "    }\n",
       "\n",
       "    .dataframe thead th {\n",
       "        text-align: right;\n",
       "    }\n",
       "</style>\n",
       "<table border=\"1\" class=\"dataframe\">\n",
       "  <thead>\n",
       "    <tr style=\"text-align: right;\">\n",
       "      <th></th>\n",
       "      <th>sign_ups</th>\n",
       "      <th>not_sign_ups</th>\n",
       "    </tr>\n",
       "  </thead>\n",
       "  <tbody>\n",
       "    <tr>\n",
       "      <th>0</th>\n",
       "      <td>1513</td>\n",
       "      <td>14133</td>\n",
       "    </tr>\n",
       "    <tr>\n",
       "      <th>1</th>\n",
       "      <td>1853</td>\n",
       "      <td>13277</td>\n",
       "    </tr>\n",
       "  </tbody>\n",
       "</table>\n",
       "</div>"
      ],
      "text/plain": [
       "   sign_ups  not_sign_ups\n",
       "0      1513         14133\n",
       "1      1853         13277"
      ]
     },
     "execution_count": 3,
     "metadata": {},
     "output_type": "execute_result"
    }
   ],
   "source": [
    "df[\"not_sign_ups\"] = df[\"page_views\"] - df[\"sign_ups\"]\n",
    "df = df[[\"sign_ups\", \"not_sign_ups\"]]\n",
    "\n",
    "df"
   ]
  },
  {
   "cell_type": "markdown",
   "id": "78254b2a-2a5b-4b02-8470-cc495247da0b",
   "metadata": {},
   "source": [
    "Next, we need to decide on a *significance value*. This is the probability that the difference between the results is by chance, and not from our button change, in other words: our findings are *statistically significant*. If you want to be more sure that your button change actually increased sign-ups, then you want a *lower* significance value. \n",
    "\n",
    "You might also hear the terms *null hypothesis* and *alternative hypothesis*. We consider the scenario where the button change provided no significant difference to the number of sign-ups as the null hypothesis (whereas the alternative hypothesis is the case where the button change did cause significant difference in the number of sign-ups). If we calculate the probability that our change was due to chance is lower than our significance value, then we reject the null hypothesis (and thus accept the alternative hypothesis).\n",
    "\n",
    "Generally, if the switch to the new version costs more resources (time, money, effort, etc.) then you want to be more sure it's not due to chance, and thus have a lower significance value.\n",
    "\n",
    "A significance value that is commonly used is 0.05, i.e. the probability that the difference is from random chance is 5% (or one in twenty). \n",
    "\n",
    "Why do we pick the significance value now? Why can't we just do all the calculations, get a probability our change is due to chance and then decide if it's good enough or not? This is known as p-hacking or [data dredging](https://en.wikipedia.org/wiki/Data_dredging), by presenting outcomes as statistically significant, even when they are not. Ideally, we should declare our predicted outcomes as early as possible (probably before we even started collecting data).\n",
    "\n",
    "With the significance value, we can find a chi-squared value we need to beat in order to declare our results statistically significant. First, we need to calculate the degrees of freedom, which, for the chi-squared test, is given by:"
   ]
  },
  {
   "cell_type": "code",
   "execution_count": 4,
   "id": "47b126ba-20d0-43fa-8622-f0ca24dc365f",
   "metadata": {},
   "outputs": [
    {
     "data": {
      "text/plain": [
       "1"
      ]
     },
     "execution_count": 4,
     "metadata": {},
     "output_type": "execute_result"
    }
   ],
   "source": [
    "n_rows, n_cols = df.shape\n",
    "\n",
    "degrees_of_freedom = (n_rows - 1) * (n_cols - 1)\n",
    "\n",
    "degrees_of_freedom"
   ]
  },
  {
   "cell_type": "markdown",
   "id": "b202ac19-98ae-49aa-add0-01117f395e60",
   "metadata": {},
   "source": [
    "`scipy` has a handy function for calculating our target chi-squared value. (Note: we use `1-significance_value`, in other words: the probability of our change being significant.) We can also get the value from a table, such as [this](https://en.wikipedia.org/wiki/Chi-squared_distribution#Computational_methods) one."
   ]
  },
  {
   "cell_type": "code",
   "execution_count": 5,
   "id": "3eb8d584-733c-4650-adaa-d0f96ce4a67f",
   "metadata": {},
   "outputs": [],
   "source": [
    "significance_value = 0.05"
   ]
  },
  {
   "cell_type": "code",
   "execution_count": 6,
   "id": "f06add02-0e83-4c5e-98d3-17bcacf398b6",
   "metadata": {},
   "outputs": [
    {
     "data": {
      "text/plain": [
       "3.841458820694124"
      ]
     },
     "execution_count": 6,
     "metadata": {},
     "output_type": "execute_result"
    }
   ],
   "source": [
    "import scipy.stats\n",
    "\n",
    "scipy.stats.chi2.ppf(1-significance_value, df=degrees_of_freedom)"
   ]
  },
  {
   "cell_type": "markdown",
   "id": "f5e38992-6838-482f-b0fa-c7c3d71aa0a0",
   "metadata": {},
   "source": [
    "So, for our change to be statistically significant, the chi-squared value should be >3.841. This is also known as the *test-statistic*.\n",
    "\n",
    "For calculating the chi-squared value of our data, we use the formula:\n",
    "\n",
    "$$\\chi^2 = \\sum^n_{i=1}\\frac{(O_i-E_i)^2}{E_i}$$\n",
    "\n",
    "$O_i$ is the number of observations of type $i$. In this case, we have four types of observations: number of sign-ups with the control variable (red button), number of no sign-ups with the control variable, number of sign-ups with the variant variable (blue button), and number of no-sign ups with the variant variable.\n",
    "\n",
    "$E_i$ is the expected value of each type $i$, asserted by the null hypothesis.\n",
    "\n",
    "To get the expected value, we need to, for each cell: multiply the sum of that cell's row by the sum of that cell's column, then divide this value by the total number of observations for all cells.\n",
    "\n",
    "For example, the expected value for sign-ups using the control variant (top left cell in our DataFrame) is:\n",
    "\n",
    "$$\\frac{(1513 + 14133) \\times (1513 + 1853)}{(1513 + 14133 + 1853 + 13277)} = 1711.217\\dots$$\n",
    "\n",
    "How does this actually calculate an expected value for the number of sign-ups for the control variant? It combines two parts: the percentage of people who signed up across both variants, which is: \n",
    "\n",
    "$$\\frac{(1513 + 1853)}{(1513 + 14133 + 1853 + 13277)} = 0.109\\dots$$\n",
    "\n",
    "We can think of this as \"expected sign-up rate\". The second part is multiplying the expected sign-up rate by the number of people who visted the control variant, which is $1513 + 14133) = 15646$, to get our expected sign-ups for the control variant:\n",
    "\n",
    "$$0.109\\dots \\times 15646 = 1711.217\\dots$$\n",
    "\n",
    "Similarly, for the, e.g. bottom right column, we calculate the percentage of non sign-ups $(14133 + 13277) / (1513 + 14133 + 1853 + 13277)$ and then multiply it by the number of visitors to the variant, $(1853 + 13277)$. \n",
    "\n",
    "We can implement it in our code like so:"
   ]
  },
  {
   "cell_type": "code",
   "execution_count": 7,
   "id": "fc3b46d2-0b87-4202-824a-8b52225a3b84",
   "metadata": {},
   "outputs": [
    {
     "data": {
      "text/plain": [
       "array([[ 1711.21770211, 13934.78229789],\n",
       "       [ 1654.78229789, 13475.21770211]])"
      ]
     },
     "execution_count": 7,
     "metadata": {},
     "output_type": "execute_result"
    }
   ],
   "source": [
    "import numpy as np\n",
    "\n",
    "expected_values = np.zeros((n_rows, n_cols))\n",
    "denominator = np.sum(df.values)\n",
    "\n",
    "for i in range(n_rows):\n",
    "    for j in range(n_cols):\n",
    "        row_total = df.iloc[i,:].sum()\n",
    "        col_total = df.iloc[:,j].sum()\n",
    "        numerator = row_total * col_total\n",
    "        expected_value = numerator / denominator\n",
    "        expected_values[i,j] = expected_value\n",
    "\n",
    "expected_values"
   ]
  },
  {
   "cell_type": "markdown",
   "id": "2347f680-e1ab-4f3c-8a09-d2b25d5a66d9",
   "metadata": {},
   "source": [
    "Now we have the expected values, we can use the rest of the formula to calculate the individual values, which we sum to get the chi-squared value:"
   ]
  },
  {
   "cell_type": "code",
   "execution_count": 8,
   "id": "dccb8486-71ac-4ca6-84ec-57f51096ae17",
   "metadata": {},
   "outputs": [
    {
     "data": {
      "text/plain": [
       "52.43919221285117"
      ]
     },
     "execution_count": 8,
     "metadata": {},
     "output_type": "execute_result"
    }
   ],
   "source": [
    "values = []\n",
    "\n",
    "for i in range(n_rows):\n",
    "    for j in range(n_cols):\n",
    "        observed_value = df.iloc[i,j]\n",
    "        expected_value = expected_values[i,j]\n",
    "        value = np.square(observed_value - expected_value) / expected_value\n",
    "        values.append(value)\n",
    "\n",
    "chi_squared_value = np.sum(values)\n",
    "\n",
    "chi_squared_value"
   ]
  },
  {
   "cell_type": "markdown",
   "id": "db8eb593-684e-430f-b9b2-3e93e10a3bf6",
   "metadata": {},
   "source": [
    "We have $\\chi^2 = 52.439\\dots$, which is higher than our target value of $3.841\\dots$. Thus, our findings are statistically significant and we should hurry up and tell our manager to quickly change the color of that button!\n",
    "\n",
    "In reality, we probably shouldn't be writing this code by hand. Instead we can use the `scipy.stats.chi2_contingency` function on our DataFrame to calculate all of this for us (and can also use it as a check to make sure all of the above code is correct):"
   ]
  },
  {
   "cell_type": "code",
   "execution_count": 9,
   "id": "ab18c9ff-4a65-4816-92dc-11b8558f9be0",
   "metadata": {},
   "outputs": [
    {
     "data": {
      "text/plain": [
       "Chi2ContingencyResult(statistic=52.174972351180045, pvalue=5.076909122065231e-13, dof=1, expected_freq=array([[ 1711.21770211, 13934.78229789],\n",
       "       [ 1654.78229789, 13475.21770211]]))"
      ]
     },
     "execution_count": 9,
     "metadata": {},
     "output_type": "execute_result"
    }
   ],
   "source": [
    "scipy.stats.chi2_contingency(df)"
   ]
  },
  {
   "cell_type": "markdown",
   "id": "74279ebf-722b-4fa1-ae7d-25a4cae50c10",
   "metadata": {},
   "source": [
    "Looks good enough to me! Also note the `pvalue` which says the odds of our results being due to random chance are astronomically low. Turns out people just love blue buttons."
   ]
  }
 ],
 "metadata": {
  "kernelspec": {
   "display_name": "Python 3 (ipykernel)",
   "language": "python",
   "name": "python3"
  },
  "language_info": {
   "codemirror_mode": {
    "name": "ipython",
    "version": 3
   },
   "file_extension": ".py",
   "mimetype": "text/x-python",
   "name": "python",
   "nbconvert_exporter": "python",
   "pygments_lexer": "ipython3",
   "version": "3.9.12"
  }
 },
 "nbformat": 4,
 "nbformat_minor": 5
}
