{
 "cells": [
  {
   "cell_type": "markdown",
   "id": "655c15f9-297b-4bc1-8753-c3e3f73a1100",
   "metadata": {},
   "source": [
    "# Some practical use cases for the walrus operator\n",
    "\n",
    "I remember there was a [controversy](https://www.youtube.com/watch?v=KN2TTiGpDvM) around the inclusion of the _walrus operator_ (denoted by `:=` and detailed [here](https://peps.python.org/pep-0572/)) in Python 3.7. However, I never really looked into when you would actually use it.\n",
    "\n",
    "Recently, I was writing some code that performed some duplicate operations in a list comprehension and searched for a way to avoid duplication. The solution: the walrus operator!\n",
    "\n",
    "Here's a list of tokens, each (for some reason) has ended up with a space either side.\n"
   ]
  },
  {
   "cell_type": "code",
   "execution_count": 1,
   "id": "0c87556e-91f9-491e-837a-bf259cdcb2dd",
   "metadata": {},
   "outputs": [],
   "source": [
    "tokens = [\n",
    "    \" hello \",\n",
    "    \"   \",\n",
    "    \" world \",\n",
    "    \" ! \",\n",
    "    \" how \",\n",
    "    \"   \",\n",
    "    \" are \",\n",
    "    \"   \",\n",
    "    \" you \",\n",
    "    \"   \",\n",
    "    \" today \",\n",
    "    \" ? \",\n",
    "]"
   ]
  },
  {
   "cell_type": "markdown",
   "id": "c8f586fa-1b7a-4716-98d1-759506b0a1de",
   "metadata": {},
   "source": [
    "We'd like to remove the extra space, as well as remove any blank/empty tokens.\n",
    "\n",
    "We can do this with the string's `strip` method. However, we'd need to call `strip` twice. Once in the list comprehension to check if it's an empty string, and then again for each expression we want to include in the final list.\n",
    "\n",
    "An example:\n"
   ]
  },
  {
   "cell_type": "code",
   "execution_count": 2,
   "id": "1b7cfd36-5357-414e-b429-72003542ded4",
   "metadata": {},
   "outputs": [
    {
     "data": {
      "text/plain": [
       "['hello', 'world', '!', 'how', 'are', 'you', 'today', '?']"
      ]
     },
     "execution_count": 2,
     "metadata": {},
     "output_type": "execute_result"
    }
   ],
   "source": [
    "cleaned_tokens = [token.strip() for token in tokens if token.strip()]\n",
    "\n",
    "cleaned_tokens"
   ]
  },
  {
   "cell_type": "markdown",
   "id": "ac1c09d4-5f7a-441e-b530-4d4cab63083b",
   "metadata": {},
   "source": [
    "We do this with a single call to `strip` using the walrus operator.\n",
    "\n",
    "Note: the the expression with the walrus operator needs to be enclosed in parentheses.\n"
   ]
  },
  {
   "cell_type": "code",
   "execution_count": 3,
   "id": "d1a3ab7a-2cc2-4ceb-85b3-8ad347894290",
   "metadata": {},
   "outputs": [
    {
     "data": {
      "text/plain": [
       "['hello', 'world', '!', 'how', 'are', 'you', 'today', '?']"
      ]
     },
     "execution_count": 3,
     "metadata": {},
     "output_type": "execute_result"
    }
   ],
   "source": [
    "cleaned_tokens = [cleaned_token for token in tokens if (cleaned_token := token.strip())]\n",
    "\n",
    "cleaned_tokens"
   ]
  },
  {
   "cell_type": "markdown",
   "id": "26a2dc58-edf8-46be-9524-0e26a3186f0d",
   "metadata": {},
   "source": [
    "What if we wanted to filer values out of the list comprehension?\n",
    "\n",
    "Below, we'll filter our tokens that have less than 2 characters after being cleaned.\n"
   ]
  },
  {
   "cell_type": "code",
   "execution_count": 4,
   "id": "7a4babb0-5c86-4666-b261-63ae242f041a",
   "metadata": {},
   "outputs": [
    {
     "data": {
      "text/plain": [
       "[5, 5, 3, 3, 3, 5]"
      ]
     },
     "execution_count": 4,
     "metadata": {},
     "output_type": "execute_result"
    }
   ],
   "source": [
    "token_lengths = [len(token.strip()) for token in tokens if len(token.strip()) > 1]\n",
    "\n",
    "token_lengths"
   ]
  },
  {
   "cell_type": "markdown",
   "id": "67bbe26e-4727-47d8-9e14-c43ad1ed5e77",
   "metadata": {},
   "source": [
    "Again, we can do this with the walrus operator.\n",
    "\n",
    "Note: the comparison operation needs to be outside the parentheses that enclose the walrus operator.\n"
   ]
  },
  {
   "cell_type": "code",
   "execution_count": 5,
   "id": "2086007f-ef9c-4130-96e9-1f15818c23ad",
   "metadata": {},
   "outputs": [
    {
     "data": {
      "text/plain": [
       "[5, 5, 3, 3, 3, 5]"
      ]
     },
     "execution_count": 5,
     "metadata": {},
     "output_type": "execute_result"
    }
   ],
   "source": [
    "token_lengths = [len_token for token in tokens if (len_token := len(token.strip())) > 1]\n",
    "\n",
    "token_lengths"
   ]
  },
  {
   "cell_type": "markdown",
   "id": "b1e2314a-05dc-450d-a808-0b63decf1341",
   "metadata": {},
   "source": [
    "Outside of list comprehensions, the most common other use case seems to be in `if` statements, where we want to \"capture\" a value in a variable.\n",
    "\n",
    "For an example without using the walrus operator:\n"
   ]
  },
  {
   "cell_type": "code",
   "execution_count": 6,
   "id": "8cbd0805-11e8-41c3-b288-5dd709f3266f",
   "metadata": {},
   "outputs": [],
   "source": [
    "kv = {\"a\": 0, \"b\": 1, \"c\": 2}\n",
    "\n",
    "\n",
    "def fn(character: str, d: dict):\n",
    "    index = d.get(character)\n",
    "    if index is not None:\n",
    "        return f\"Found {character} at index {index}\"\n",
    "    else:\n",
    "        return f\"Couldn't find {character}\""
   ]
  },
  {
   "cell_type": "code",
   "execution_count": 7,
   "id": "1b2ab295-5d2a-4fb7-886f-b3cb31b7a310",
   "metadata": {},
   "outputs": [
    {
     "data": {
      "text/plain": [
       "'Found a at index 0'"
      ]
     },
     "execution_count": 7,
     "metadata": {},
     "output_type": "execute_result"
    }
   ],
   "source": [
    "fn(\"a\", kv)"
   ]
  },
  {
   "cell_type": "code",
   "execution_count": 8,
   "id": "375bd366-0305-40c6-9788-9c4d14fc9181",
   "metadata": {},
   "outputs": [
    {
     "data": {
      "text/plain": [
       "\"Couldn't find z\""
      ]
     },
     "execution_count": 8,
     "metadata": {},
     "output_type": "execute_result"
    }
   ],
   "source": [
    "fn(\"z\", kv)"
   ]
  },
  {
   "cell_type": "markdown",
   "id": "ba6c6df3-9da1-446a-9b24-02648423e9f8",
   "metadata": {},
   "source": [
    "`fn` looks alright, but what if we could perform the `get` and `is None` and assign the value to `index` all in one go?\n"
   ]
  },
  {
   "cell_type": "code",
   "execution_count": 9,
   "id": "30b3cdf7-6448-4bed-b226-8f100d856d30",
   "metadata": {},
   "outputs": [],
   "source": [
    "def fn(character: str, d: dict):\n",
    "    if (index := d.get(character)) is not None:\n",
    "        return f\"Found {character} at index {index}\"\n",
    "    else:\n",
    "        return f\"Couldn't find {character}\""
   ]
  },
  {
   "cell_type": "code",
   "execution_count": 10,
   "id": "2cd50b09-5300-4a3c-a075-44b54ab55def",
   "metadata": {},
   "outputs": [
    {
     "data": {
      "text/plain": [
       "'Found a at index 0'"
      ]
     },
     "execution_count": 10,
     "metadata": {},
     "output_type": "execute_result"
    }
   ],
   "source": [
    "fn(\"a\", kv)"
   ]
  },
  {
   "cell_type": "code",
   "execution_count": 11,
   "id": "b4235178-cd16-42af-9454-eebdca9a331e",
   "metadata": {},
   "outputs": [
    {
     "data": {
      "text/plain": [
       "\"Couldn't find z\""
      ]
     },
     "execution_count": 11,
     "metadata": {},
     "output_type": "execute_result"
    }
   ],
   "source": [
    "fn(\"z\", kv)"
   ]
  },
  {
   "cell_type": "markdown",
   "id": "1a10b764-9a72-4287-a6f3-c42f0f9c3d10",
   "metadata": {},
   "source": [
    "There's also a way to use the walrus operator in `while` loops (which I don't seem to use a lot).\n"
   ]
  },
  {
   "cell_type": "code",
   "execution_count": 12,
   "id": "475ba984-c4c0-4768-bead-9277d45ca997",
   "metadata": {},
   "outputs": [
    {
     "name": "stdout",
     "output_type": "stream",
     "text": [
      "Got: A\n",
      "Got: B\n",
      "Got: C\n"
     ]
    }
   ],
   "source": [
    "letters = [\"a\", \"b\", \"c\", \"d\", \"e\"]\n",
    "\n",
    "i = 0\n",
    "while letters[i].upper() != \"D\":\n",
    "    print(f\"Got: {letters[i].upper()}\")\n",
    "    i += 1"
   ]
  },
  {
   "cell_type": "markdown",
   "id": "f96233e1-d87d-42a4-9f54-96ead481dae8",
   "metadata": {},
   "source": [
    "The above calls `letters[i].upper()` twice, which we can simplify with our trusty walrus operator:\n"
   ]
  },
  {
   "cell_type": "code",
   "execution_count": 13,
   "id": "f16660bf-ef4a-4ee5-9b0c-e8c78065cb81",
   "metadata": {},
   "outputs": [
    {
     "name": "stdout",
     "output_type": "stream",
     "text": [
      "Got: A\n",
      "Got: B\n",
      "Got: C\n"
     ]
    }
   ],
   "source": [
    "i = 0\n",
    "while (upper_letter := letters[i].upper()) != \"D\":\n",
    "    print(f\"Got: {upper_letter}\")\n",
    "    i += 1"
   ]
  },
  {
   "cell_type": "markdown",
   "id": "52a4923e-5d3d-41b9-9e9f-f92c44d0980a",
   "metadata": {},
   "source": [
    "Finally, using the walrus operator with the `any` operator, where we want to find if any item in a list comprehension is `True`, and an instance of one of those results.\n",
    "\n",
    "Without the walrus operator, we have to do this ugly filter, check, index at zero:\n"
   ]
  },
  {
   "cell_type": "code",
   "execution_count": 14,
   "id": "85fb6374-ae3a-45c9-bde2-ff313d08a558",
   "metadata": {},
   "outputs": [
    {
     "name": "stdout",
     "output_type": "stream",
     "text": [
      "Found cat\n"
     ]
    }
   ],
   "source": [
    "animals = [\"ant\", \"baboon\", \"cat\", \"dog\", \"elephant\"]\n",
    "\n",
    "c_animals = [animal for animal in animals if animal.startswith((\"c\", \"C\"))]\n",
    "\n",
    "if c_animals:\n",
    "    print(f\"Found {c_animals[0]}\")\n",
    "else:\n",
    "    print(\"No animal starts with C\")"
   ]
  },
  {
   "cell_type": "markdown",
   "id": "ef5b70ec-9638-480b-a7cb-426577e5cc71",
   "metadata": {},
   "source": [
    "However, with the walrus operator we can do all of that in a single line!\n"
   ]
  },
  {
   "cell_type": "code",
   "execution_count": 15,
   "id": "6631045f-1ea3-4d16-b8a3-b53d0b4544fc",
   "metadata": {},
   "outputs": [
    {
     "name": "stdout",
     "output_type": "stream",
     "text": [
      "Found cat\n"
     ]
    }
   ],
   "source": [
    "if any((c_animal := animal).startswith((\"c\", \"C\")) for animal in animals):\n",
    "    print(f\"Found {c_animal}\")\n",
    "else:\n",
    "    print(\"No animal starts with C\")"
   ]
  },
  {
   "cell_type": "markdown",
   "id": "b333cb8a-5e6b-4a39-acd4-d8ad1bf7947d",
   "metadata": {},
   "source": [
    "There you go. There's some use cases for the walrus operator without confusing you by using the phrase \"named expression\" once!\n"
   ]
  }
 ],
 "metadata": {
  "kernelspec": {
   "display_name": "Python 3 (ipykernel)",
   "language": "python",
   "name": "python3"
  },
  "language_info": {
   "codemirror_mode": {
    "name": "ipython",
    "version": 3
   },
   "file_extension": ".py",
   "mimetype": "text/x-python",
   "name": "python",
   "nbconvert_exporter": "python",
   "pygments_lexer": "ipython3",
   "version": "3.9.17"
  }
 },
 "nbformat": 4,
 "nbformat_minor": 5
}
