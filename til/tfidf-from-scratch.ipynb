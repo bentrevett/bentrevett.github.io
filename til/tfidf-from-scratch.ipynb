{
 "cells": [
  {
   "cell_type": "markdown",
   "id": "36e9f519-843e-41f2-92d1-f6c9191f73a0",
   "metadata": {},
   "source": [
    "# TF-IDF from Scratch\n",
    "\n",
    "TF-IDF (term frequency-inverse document frequency) is a method of calculating the importance of each word in a set of documents. The TF-IDF values for a document are also commonly used as an embedding (a dense vector representation) for that document. These embeddings can then be used as the input to a machine learning model, e.g. a logistic regression model to classify your documents.\n",
    "\n",
    "The sklearn library has an implementation of TF-IDF, but let's try and figure out how to implement it ourselves!\n",
    "\n",
    "First, we'll implement it using sklearn and use the embeddings of our documents to make sure our implementation is correct.\n",
    "\n",
    "Here's our documents:"
   ]
  },
  {
   "cell_type": "code",
   "execution_count": 1,
   "id": "bd4cfb07-bfd1-4754-b5ef-2245245a35f7",
   "metadata": {},
   "outputs": [],
   "source": [
    "documents = [\n",
    "    \"I love baseball. It's my favorite sport of all time.\",\n",
    "    \"My favorite sport: cricket. I love cricket.\",\n",
    "    \"Cricket. There's a sport. A sport for the ages!\",\n",
    "]"
   ]
  },
  {
   "cell_type": "markdown",
   "id": "42721d2d-c1e7-4ea6-ba9d-a3330891f8f6",
   "metadata": {},
   "source": [
    "## TF-IDF in sklearn\n",
    "\n",
    "Here's how create TF-IDF embeddings for documents using sklearn.\n",
    "\n",
    "- Create an instance of `TfidfVectorizer`\n",
    "- \"Fit\" the `TfidfVectorizer` on your documents to calculate the TF and IDF values.\n",
    "- \"Transform\" your documents, which applies the TF-IDF algorithm to them\n",
    "  - We then cast the embeddings to a numpy array with `toarray`"
   ]
  },
  {
   "cell_type": "code",
   "execution_count": 2,
   "id": "fbe5b15b-9478-4712-a6d0-ab63b0dd0dc0",
   "metadata": {},
   "outputs": [],
   "source": [
    "from sklearn.feature_extraction.text import TfidfVectorizer\n",
    "\n",
    "vec = TfidfVectorizer()\n",
    "vec.fit(documents)\n",
    "tfidf = vec.transform(documents).toarray()"
   ]
  },
  {
   "cell_type": "markdown",
   "id": "29122cd1-ce82-4b1d-bd93-adfa8c6c2408",
   "metadata": {},
   "source": [
    "The TFIDF values are a `[n documents, vocabulary size]` array, where the vocabulary size is the number of unique tokens across all documents after preprocessing and tokenization."
   ]
  },
  {
   "cell_type": "code",
   "execution_count": 3,
   "id": "381a00e1-b910-4fe7-b93a-c7d1c71e9674",
   "metadata": {},
   "outputs": [
    {
     "data": {
      "text/plain": [
       "array([[0.        , 0.37571621, 0.37571621, 0.        , 0.28574186,\n",
       "        0.        , 0.37571621, 0.28574186, 0.28574186, 0.37571621,\n",
       "        0.22190405, 0.        , 0.        , 0.37571621],\n",
       "       [0.        , 0.        , 0.        , 0.72532878, 0.36266439,\n",
       "        0.        , 0.        , 0.36266439, 0.36266439, 0.        ,\n",
       "        0.28164125, 0.        , 0.        , 0.        ],\n",
       "       [0.40914568, 0.        , 0.        , 0.31116583, 0.        ,\n",
       "        0.40914568, 0.        , 0.        , 0.        , 0.        ,\n",
       "        0.48329606, 0.40914568, 0.40914568, 0.        ]])"
      ]
     },
     "execution_count": 3,
     "metadata": {},
     "output_type": "execute_result"
    }
   ],
   "source": [
    "tfidf"
   ]
  },
  {
   "cell_type": "markdown",
   "id": "13673a49-4855-424a-bbcf-80533346e553",
   "metadata": {},
   "source": [
    "We can get the actual vocabulary items using `get_feature_names_out`."
   ]
  },
  {
   "cell_type": "code",
   "execution_count": 4,
   "id": "0f6445de-e6fd-46e9-9ab9-e6cc891db0ab",
   "metadata": {},
   "outputs": [
    {
     "data": {
      "text/plain": [
       "array(['ages', 'all', 'baseball', 'cricket', 'favorite', 'for', 'it',\n",
       "       'love', 'my', 'of', 'sport', 'the', 'there', 'time'], dtype=object)"
      ]
     },
     "execution_count": 4,
     "metadata": {},
     "output_type": "execute_result"
    }
   ],
   "source": [
    "vec.get_feature_names_out()"
   ]
  },
  {
   "cell_type": "markdown",
   "id": "b50833a5-de6b-4dbb-8bb5-f476067ef163",
   "metadata": {},
   "source": [
    "Finally, we can combine the `tfidf` array and the vocabulary to make things easier to visualize by converting them into a pandas DataFrame:"
   ]
  },
  {
   "cell_type": "code",
   "execution_count": 5,
   "id": "faa9aca1-3347-4504-a035-8b85a68d0102",
   "metadata": {},
   "outputs": [],
   "source": [
    "import pandas as pd\n",
    "\n",
    "sklearn_df = pd.DataFrame(tfidf, columns=vec.get_feature_names_out())"
   ]
  },
  {
   "cell_type": "code",
   "execution_count": 6,
   "id": "c3d28f3a-3926-48c5-a8ff-d672c5a663cd",
   "metadata": {},
   "outputs": [
    {
     "data": {
      "text/html": [
       "<div>\n",
       "<style scoped>\n",
       "    .dataframe tbody tr th:only-of-type {\n",
       "        vertical-align: middle;\n",
       "    }\n",
       "\n",
       "    .dataframe tbody tr th {\n",
       "        vertical-align: top;\n",
       "    }\n",
       "\n",
       "    .dataframe thead th {\n",
       "        text-align: right;\n",
       "    }\n",
       "</style>\n",
       "<table border=\"1\" class=\"dataframe\">\n",
       "  <thead>\n",
       "    <tr style=\"text-align: right;\">\n",
       "      <th></th>\n",
       "      <th>ages</th>\n",
       "      <th>all</th>\n",
       "      <th>baseball</th>\n",
       "      <th>cricket</th>\n",
       "      <th>favorite</th>\n",
       "      <th>for</th>\n",
       "      <th>it</th>\n",
       "      <th>love</th>\n",
       "      <th>my</th>\n",
       "      <th>of</th>\n",
       "      <th>sport</th>\n",
       "      <th>the</th>\n",
       "      <th>there</th>\n",
       "      <th>time</th>\n",
       "    </tr>\n",
       "  </thead>\n",
       "  <tbody>\n",
       "    <tr>\n",
       "      <th>0</th>\n",
       "      <td>0.000000</td>\n",
       "      <td>0.375716</td>\n",
       "      <td>0.375716</td>\n",
       "      <td>0.000000</td>\n",
       "      <td>0.285742</td>\n",
       "      <td>0.000000</td>\n",
       "      <td>0.375716</td>\n",
       "      <td>0.285742</td>\n",
       "      <td>0.285742</td>\n",
       "      <td>0.375716</td>\n",
       "      <td>0.221904</td>\n",
       "      <td>0.000000</td>\n",
       "      <td>0.000000</td>\n",
       "      <td>0.375716</td>\n",
       "    </tr>\n",
       "    <tr>\n",
       "      <th>1</th>\n",
       "      <td>0.000000</td>\n",
       "      <td>0.000000</td>\n",
       "      <td>0.000000</td>\n",
       "      <td>0.725329</td>\n",
       "      <td>0.362664</td>\n",
       "      <td>0.000000</td>\n",
       "      <td>0.000000</td>\n",
       "      <td>0.362664</td>\n",
       "      <td>0.362664</td>\n",
       "      <td>0.000000</td>\n",
       "      <td>0.281641</td>\n",
       "      <td>0.000000</td>\n",
       "      <td>0.000000</td>\n",
       "      <td>0.000000</td>\n",
       "    </tr>\n",
       "    <tr>\n",
       "      <th>2</th>\n",
       "      <td>0.409146</td>\n",
       "      <td>0.000000</td>\n",
       "      <td>0.000000</td>\n",
       "      <td>0.311166</td>\n",
       "      <td>0.000000</td>\n",
       "      <td>0.409146</td>\n",
       "      <td>0.000000</td>\n",
       "      <td>0.000000</td>\n",
       "      <td>0.000000</td>\n",
       "      <td>0.000000</td>\n",
       "      <td>0.483296</td>\n",
       "      <td>0.409146</td>\n",
       "      <td>0.409146</td>\n",
       "      <td>0.000000</td>\n",
       "    </tr>\n",
       "  </tbody>\n",
       "</table>\n",
       "</div>"
      ],
      "text/plain": [
       "       ages       all  baseball   cricket  favorite       for        it  \\\n",
       "0  0.000000  0.375716  0.375716  0.000000  0.285742  0.000000  0.375716   \n",
       "1  0.000000  0.000000  0.000000  0.725329  0.362664  0.000000  0.000000   \n",
       "2  0.409146  0.000000  0.000000  0.311166  0.000000  0.409146  0.000000   \n",
       "\n",
       "       love        my        of     sport       the     there      time  \n",
       "0  0.285742  0.285742  0.375716  0.221904  0.000000  0.000000  0.375716  \n",
       "1  0.362664  0.362664  0.000000  0.281641  0.000000  0.000000  0.000000  \n",
       "2  0.000000  0.000000  0.000000  0.483296  0.409146  0.409146  0.000000  "
      ]
     },
     "execution_count": 6,
     "metadata": {},
     "output_type": "execute_result"
    }
   ],
   "source": [
    "sklearn_df"
   ]
  },
  {
   "cell_type": "markdown",
   "id": "8945ddfa-09e9-43bf-9518-72300381d51d",
   "metadata": {},
   "source": [
    "Now, we'll go through how to do the above, but from scratch in Python.\n",
    "\n",
    "First, we need a tokenizer. This is a function that converts our documents (strings) into tokens (a list of strings). We'll do this using a regular expression, (the one that's used as the default `token_pattern` argument in the [TfidfVectorizer documentation](https://scikit-learn.org/stable/modules/generated/sklearn.feature_extraction.text.TfidfVectorizer.html)).\n",
    "\n",
    "**Note:** The `TfidfVectorizer` also does some preprocessing -- namely lowercasing and stripping accents from the text -- in our implementation we'll only lowercase for simplicity. This means that technically you may get different results than using the `TfidfVectorizer` depending on what's in your documents."
   ]
  },
  {
   "cell_type": "code",
   "execution_count": 7,
   "id": "87f54524-56e8-48ea-8bd9-91ebbb911560",
   "metadata": {},
   "outputs": [],
   "source": [
    "import re\n",
    "\n",
    "def tokenizer(s: str) -> list[str]:\n",
    "    return [token.lower() for token in re.findall(r\"(?u)\\b\\w\\w+\\b\", s)]"
   ]
  },
  {
   "cell_type": "code",
   "execution_count": 8,
   "id": "42a96563-9000-4d5c-9823-de24d0d338b9",
   "metadata": {},
   "outputs": [
    {
     "data": {
      "text/plain": [
       "['hello', 'world']"
      ]
     },
     "execution_count": 8,
     "metadata": {},
     "output_type": "execute_result"
    }
   ],
   "source": [
    "tokenizer(\"hello, world\")"
   ]
  },
  {
   "cell_type": "markdown",
   "id": "6c6393e9-7f57-425f-b639-3a5f3e303bd7",
   "metadata": {},
   "source": [
    "We can view the tokens in each document:"
   ]
  },
  {
   "cell_type": "code",
   "execution_count": 9,
   "id": "d8fb62d2-118c-4f27-a011-bcb7e57c1b07",
   "metadata": {},
   "outputs": [
    {
     "name": "stdout",
     "output_type": "stream",
     "text": [
      "document 1: ['love', 'baseball', 'it', 'my', 'favorite', 'sport', 'of', 'all', 'time']\n",
      "document 2: ['my', 'favorite', 'sport', 'cricket', 'love', 'cricket']\n",
      "document 3: ['cricket', 'there', 'sport', 'sport', 'for', 'the', 'ages']\n"
     ]
    }
   ],
   "source": [
    "for i, document in enumerate(documents, start=1):\n",
    "    print(f\"document {i}:\", tokenizer(document))"
   ]
  },
  {
   "cell_type": "markdown",
   "id": "7f403ea0-0a6a-4c54-96fb-dfb3a5def600",
   "metadata": {},
   "source": [
    "## Vocabulary\n",
    "\n",
    "Next, we want to get the *vocabulary* of our documents. This is a list of all the unique tokens in our documents.\n",
    "\n",
    "We do this by using our tokenizer function and Python's `collections.Counter` class which keeps a count of tokens seen when using the `update` method.\n",
    "\n",
    "Sorting the vocabulary isn't necessary, but it's done in the `TfidfVectorizer`, so we do it here."
   ]
  },
  {
   "cell_type": "code",
   "execution_count": 10,
   "id": "68f9c819-bdf8-4b92-975f-c918a450df49",
   "metadata": {},
   "outputs": [
    {
     "data": {
      "text/plain": [
       "['ages',\n",
       " 'all',\n",
       " 'baseball',\n",
       " 'cricket',\n",
       " 'favorite',\n",
       " 'for',\n",
       " 'it',\n",
       " 'love',\n",
       " 'my',\n",
       " 'of',\n",
       " 'sport',\n",
       " 'the',\n",
       " 'there',\n",
       " 'time']"
      ]
     },
     "execution_count": 10,
     "metadata": {},
     "output_type": "execute_result"
    }
   ],
   "source": [
    "import typing\n",
    "from collections import Counter\n",
    "\n",
    "def get_vocabulary(documents: list[str], tokenizer: typing.Callable) -> list[str]:\n",
    "    cnt = Counter()\n",
    "    for doc in documents:\n",
    "        tokens = tokenizer(doc)\n",
    "        cnt.update(tokens)\n",
    "    return sorted([k for k, _ in cnt.most_common()])\n",
    "\n",
    "\n",
    "vocabulary = get_vocabulary(documents, tokenizer)\n",
    "\n",
    "vocabulary"
   ]
  },
  {
   "cell_type": "markdown",
   "id": "36e20d32-cbb9-46c9-af80-8d6737d3d95e",
   "metadata": {},
   "source": [
    "## Term Frequency\n",
    "\n",
    "We then calculate the *term frequency* values. This value tells us the relative frequency of a token within a document.\n",
    "\n",
    "Term frequency is given by:\n",
    "\n",
    "$$\\text{tf}(t,d) = \\frac{f_{t,d}}{|d|}$$\n",
    "\n",
    "The term frequency for each token, $t$, in each document, $d$ is $\\text{tf}(t,d)$, and is calculating by dividing the the number of times that $t$ appears in the $d$, ($f_{t,d}$) by the total number of tokens in the document, $|d|$.\n",
    "\n",
    "In the code below, $f_{t,d}$, is given by `cnt[token]`, and $|d|$ is given by `tot_tokens`. We calculate both for each document individually.\n",
    "\n",
    "**Note:** we calculate the term frequency per document for each token in the vocabulary, not just each token in the document. Tokens in the vocabulary but not in the document will get a term frequency value of zero. "
   ]
  },
  {
   "cell_type": "code",
   "execution_count": 11,
   "id": "0cc76b95-26b2-4f88-960c-abf8aebeac55",
   "metadata": {},
   "outputs": [],
   "source": [
    "def get_tf(\n",
    "    documents: list[str], vocabulary: list[str], tokenizer: typing.Callable\n",
    ") -> list[dict[str, float]]:\n",
    "    tf = []\n",
    "    for doc in documents:\n",
    "        doc_tf = dict()\n",
    "        tokens = tokenizer(doc)\n",
    "        cnt = Counter(tokens)\n",
    "        tot_tokens = sum(cnt.values())\n",
    "        doc_tf = {token: cnt[token] / tot_tokens for token in vocabulary}\n",
    "        tf.append(doc_tf)\n",
    "    return tf\n",
    "\n",
    "\n",
    "tf = get_tf(documents, vocabulary, tokenizer)"
   ]
  },
  {
   "cell_type": "code",
   "execution_count": 12,
   "id": "d9fdf8e6-1a23-478e-a73d-8ecb47bcb56b",
   "metadata": {},
   "outputs": [
    {
     "data": {
      "text/plain": [
       "[{'ages': 0.0,\n",
       "  'all': 0.1111111111111111,\n",
       "  'baseball': 0.1111111111111111,\n",
       "  'cricket': 0.0,\n",
       "  'favorite': 0.1111111111111111,\n",
       "  'for': 0.0,\n",
       "  'it': 0.1111111111111111,\n",
       "  'love': 0.1111111111111111,\n",
       "  'my': 0.1111111111111111,\n",
       "  'of': 0.1111111111111111,\n",
       "  'sport': 0.1111111111111111,\n",
       "  'the': 0.0,\n",
       "  'there': 0.0,\n",
       "  'time': 0.1111111111111111},\n",
       " {'ages': 0.0,\n",
       "  'all': 0.0,\n",
       "  'baseball': 0.0,\n",
       "  'cricket': 0.3333333333333333,\n",
       "  'favorite': 0.16666666666666666,\n",
       "  'for': 0.0,\n",
       "  'it': 0.0,\n",
       "  'love': 0.16666666666666666,\n",
       "  'my': 0.16666666666666666,\n",
       "  'of': 0.0,\n",
       "  'sport': 0.16666666666666666,\n",
       "  'the': 0.0,\n",
       "  'there': 0.0,\n",
       "  'time': 0.0},\n",
       " {'ages': 0.14285714285714285,\n",
       "  'all': 0.0,\n",
       "  'baseball': 0.0,\n",
       "  'cricket': 0.14285714285714285,\n",
       "  'favorite': 0.0,\n",
       "  'for': 0.14285714285714285,\n",
       "  'it': 0.0,\n",
       "  'love': 0.0,\n",
       "  'my': 0.0,\n",
       "  'of': 0.0,\n",
       "  'sport': 0.2857142857142857,\n",
       "  'the': 0.14285714285714285,\n",
       "  'there': 0.14285714285714285,\n",
       "  'time': 0.0}]"
      ]
     },
     "execution_count": 12,
     "metadata": {},
     "output_type": "execute_result"
    }
   ],
   "source": [
    "tf"
   ]
  },
  {
   "cell_type": "markdown",
   "id": "a5fdd400-7f4a-4873-986f-6077db9ebba4",
   "metadata": {},
   "source": [
    "Let's verify this is correct. In the first document, the token \"baseball\" has a term-frequency value of 0.125.\n",
    "\n",
    "This is because the token \"baseball\" appears once in the document, and there are nine tokens in the document:\n",
    "\n",
    "$$\\text{tf}(\\text{\"baseball\"},D_1) = \\frac{1}{9} = 0.111 \\dots$$\n",
    "\n",
    "For the second document, the token \"cricket\" appears twice, and there's six tokens in the document:\n",
    "\n",
    "$$\\text{tf}(\\text{\"cricket\"},D_2) = \\frac{2}{6} = 0.333 \\dots$$\n",
    "\n",
    "For the third document, the token \"sports\" doesn't appear at all, and there's also six tokens in the document:\n",
    "\n",
    "$$\\text{tf}(\\text{\"sports\"},D_3) = \\frac{0}{6} = 0$$\n",
    "\n",
    "## Inverse Document Frequency\n",
    "\n",
    "Next, we'll calculate the *inverse document frequency*. This value tells us how important a token is by how many documents it appears in. If a token appears in many documents, it's probably not important. If it appears in very few documents, then it might be important.\n",
    "\n",
    "There's a few different methods to calculate this, the most basic of which is:\n",
    "\n",
    "$$\\text{idf}(t) = \\ln\\bigg(\\frac{|D|}{n_t}\\bigg)$$\n",
    "\n",
    "$|D|$ is the total number of documents, and $n_t$ is the number of documents that contain token, $t$. Note that inverse document frequency, unlike term frequency, is not calculated per document. Also, $n_t$ does not care how many times the token appears in each document, just how many documents contain that token.\n",
    "\n",
    "The formula for inverse document frequency used in sklearn is a little different (details [here](https://scikit-learn.org/stable/modules/feature_extraction.html#tfidf-term-weighting)), it's calculated as:\n",
    "\n",
    "$$\\text{idf}(t) = 1 + \\ln\\bigg(\\frac{1 + |D|}{1 + n_t}\\bigg)$$\n",
    "\n",
    "In the code below: $|D|$ is given by `n`, and $n_t$ is given by `cnt[v]`."
   ]
  },
  {
   "cell_type": "code",
   "execution_count": 13,
   "id": "f0a621df-9ad4-4198-bc12-857b221a912d",
   "metadata": {},
   "outputs": [],
   "source": [
    "from collections import defaultdict\n",
    "import numpy as np\n",
    "\n",
    "def get_idf(\n",
    "    documents: list[str], vocabulary: list[str], tokenizer: typing.Callable\n",
    ") -> dict[str, float]:\n",
    "    n = len(documents)\n",
    "    cnt = defaultdict(int)\n",
    "    for v in vocabulary:\n",
    "        for doc in documents:\n",
    "            tokens = tokenizer(doc)\n",
    "            if v in tokens:\n",
    "                cnt[v] += 1\n",
    "    idf = {v: 1 + np.log((1 + n) / (1 + cnt[v])) for v in vocabulary}\n",
    "    return idf\n",
    "\n",
    "\n",
    "idf = get_idf(documents, vocabulary, tokenizer)"
   ]
  },
  {
   "cell_type": "code",
   "execution_count": 14,
   "id": "915daf7d-9808-422c-82f4-d7c2daae68f2",
   "metadata": {},
   "outputs": [
    {
     "data": {
      "text/plain": [
       "{'ages': 1.6931471805599454,\n",
       " 'all': 1.6931471805599454,\n",
       " 'baseball': 1.6931471805599454,\n",
       " 'cricket': 1.2876820724517808,\n",
       " 'favorite': 1.2876820724517808,\n",
       " 'for': 1.6931471805599454,\n",
       " 'it': 1.6931471805599454,\n",
       " 'love': 1.2876820724517808,\n",
       " 'my': 1.2876820724517808,\n",
       " 'of': 1.6931471805599454,\n",
       " 'sport': 1.0,\n",
       " 'the': 1.6931471805599454,\n",
       " 'there': 1.6931471805599454,\n",
       " 'time': 1.6931471805599454}"
      ]
     },
     "execution_count": 14,
     "metadata": {},
     "output_type": "execute_result"
    }
   ],
   "source": [
    "idf"
   ]
  },
  {
   "cell_type": "markdown",
   "id": "59d6a516-d7b5-4b27-928a-67a216d764dd",
   "metadata": {},
   "source": [
    "To verify, the token \"absolutely\" appears in one document, and we have three documents in total, therefore:\n",
    "\n",
    "$$\\text{idf}(\\text{\"absolutely\"})=1 + \\ln\\bigg(\\frac{1 + 3}{1 + 1}\\bigg)=1+\\ln\\bigg(\\frac{4}{2}\\bigg)=1+\\ln\\big(2\\big)=1+0.693\\dots=1.693$$\n",
    "\n",
    "The token \"sport\" appears in all three documents, so we have:\n",
    "\n",
    "$$\\text{idf}(\\text{\"sport\"})=1 + \\ln\\bigg(\\frac{1 + 3}{1 + 3}\\bigg)=1 + \\ln\\bigg(\\frac{4}{4}\\bigg)=1 + \\ln\\big(1\\big)=1+0=1$$\n",
    "\n",
    "## TF-IDF (Term Frequency-Inverse Document Frequency)\n",
    "\n",
    "Once we have the term frequency and inverse document frequency, we can calculate *term frequency-inverse document frequency*. This is a measure of how \"important\" each token is within a document.\n",
    "\n",
    "by simplying multiplying them together:\n",
    "\n",
    "$$\\text{tf-idf}(t,d) = \\text{tf}(t,d) \\cdot \\text{idf}(t)$$\n",
    "\n",
    "This means that:\n",
    "- When a token doesn't appear in many documents, but appears a lot in those documents, it will have a high IDF value and a high TF value for those documents it does appear in. This gives it a high TF-IDF value in those documents. The TF value will be zero in documents which the term does not appear, so the TF-IDF value is zero. We assume this token is important in those documents.\n",
    "- When a token appears in every document, and also appears a lot in those documents, it will have a low IDF value and a high TF value. The low IDF value will cause it to have a low TF-IDF value. We assume these are common words, e.g. \"the\", \"and\", \"an\", and have low information.\n",
    "- When a token doesn't appear in many documents and only appears rarely in those documents, it will have a high IDF value and a low TF value for those documents (zero in all documents in doesn't appear). The low TF value will cause a low TF-IDF value. The assumption is that these are rare tokens that don't contain much information.\n",
    "\n",
    "Remember that TF-IDF is calculated for each token in the vocabulary, not just for each token in each document.\n",
    "\n",
    "This means for each document we get a $V$-dimensional vector (where $V$ is the size of the vocabulary). These vectors are what are referred to as *TF-IDF embeddings*, and are used as input to machine learning models.\n",
    "\n",
    "The sklearn implementation goes a step further and we actually normalize these vectors by calculating:\n",
    "\n",
    "$$v_{\\text{norm}} = \\frac{v}{\\|v\\|_2} = \\frac{v}{\\sqrt{v_1^2+v_2^2+\\cdots+v_n^2}}$$\n",
    "\n",
    "We do this in code by calculating the norm and then dividing each individual TF-IDF value by it."
   ]
  },
  {
   "cell_type": "code",
   "execution_count": 15,
   "id": "80341bd4-173c-475c-9668-dd025d3f06f6",
   "metadata": {},
   "outputs": [],
   "source": [
    "def get_tfidf(\n",
    "    tf: list[dict[str, float]], idf: dict[str, float]\n",
    ") -> list[dict[str, float]]:\n",
    "    tfidf = []\n",
    "    for doc_tf in tf:\n",
    "        doc_tfidf = dict()\n",
    "        for token in doc_tf.keys():\n",
    "            doc_tfidf[token] = doc_tf[token] * idf[token]\n",
    "        vec = np.array([v for v in doc_tfidf.values()])\n",
    "        norm = np.linalg.norm(vec)\n",
    "        for token, value in doc_tfidf.items():\n",
    "            doc_tfidf[token] = value / norm\n",
    "        tfidf.append(doc_tfidf)\n",
    "    return tfidf\n",
    "\n",
    "\n",
    "tfidf = get_tfidf(tf, idf)"
   ]
  },
  {
   "cell_type": "code",
   "execution_count": 16,
   "id": "60974d00-abed-4a23-8055-92db4cf09683",
   "metadata": {},
   "outputs": [
    {
     "data": {
      "text/plain": [
       "[{'ages': 0.0,\n",
       "  'all': 0.3757162113174268,\n",
       "  'baseball': 0.3757162113174268,\n",
       "  'cricket': 0.0,\n",
       "  'favorite': 0.2857418629625308,\n",
       "  'for': 0.0,\n",
       "  'it': 0.3757162113174268,\n",
       "  'love': 0.2857418629625308,\n",
       "  'my': 0.2857418629625308,\n",
       "  'of': 0.3757162113174268,\n",
       "  'sport': 0.22190404687274298,\n",
       "  'the': 0.0,\n",
       "  'there': 0.0,\n",
       "  'time': 0.3757162113174268},\n",
       " {'ages': 0.0,\n",
       "  'all': 0.0,\n",
       "  'baseball': 0.0,\n",
       "  'cricket': 0.7253287753645998,\n",
       "  'favorite': 0.3626643876822999,\n",
       "  'for': 0.0,\n",
       "  'it': 0.0,\n",
       "  'love': 0.3626643876822999,\n",
       "  'my': 0.3626643876822999,\n",
       "  'of': 0.0,\n",
       "  'sport': 0.2816412493743718,\n",
       "  'the': 0.0,\n",
       "  'there': 0.0,\n",
       "  'time': 0.0},\n",
       " {'ages': 0.4091456783838912,\n",
       "  'all': 0.0,\n",
       "  'baseball': 0.0,\n",
       "  'cricket': 0.31116583432624145,\n",
       "  'favorite': 0.0,\n",
       "  'for': 0.4091456783838912,\n",
       "  'it': 0.0,\n",
       "  'love': 0.0,\n",
       "  'my': 0.0,\n",
       "  'of': 0.0,\n",
       "  'sport': 0.4832960572849686,\n",
       "  'the': 0.4091456783838912,\n",
       "  'there': 0.4091456783838912,\n",
       "  'time': 0.0}]"
      ]
     },
     "execution_count": 16,
     "metadata": {},
     "output_type": "execute_result"
    }
   ],
   "source": [
    "tfidf"
   ]
  },
  {
   "cell_type": "markdown",
   "id": "3b931a78-e244-4795-8411-ab7dc9283569",
   "metadata": {},
   "source": [
    "We can also put these values in a DataFrame to visualize them:"
   ]
  },
  {
   "cell_type": "code",
   "execution_count": 17,
   "id": "113657e7-b632-4331-9b98-f90c354e2e54",
   "metadata": {},
   "outputs": [],
   "source": [
    "scratch_df = pd.DataFrame(tfidf)"
   ]
  },
  {
   "cell_type": "code",
   "execution_count": 18,
   "id": "192cdd09-d70c-442f-8b49-8c13589d3412",
   "metadata": {},
   "outputs": [
    {
     "data": {
      "text/html": [
       "<div>\n",
       "<style scoped>\n",
       "    .dataframe tbody tr th:only-of-type {\n",
       "        vertical-align: middle;\n",
       "    }\n",
       "\n",
       "    .dataframe tbody tr th {\n",
       "        vertical-align: top;\n",
       "    }\n",
       "\n",
       "    .dataframe thead th {\n",
       "        text-align: right;\n",
       "    }\n",
       "</style>\n",
       "<table border=\"1\" class=\"dataframe\">\n",
       "  <thead>\n",
       "    <tr style=\"text-align: right;\">\n",
       "      <th></th>\n",
       "      <th>ages</th>\n",
       "      <th>all</th>\n",
       "      <th>baseball</th>\n",
       "      <th>cricket</th>\n",
       "      <th>favorite</th>\n",
       "      <th>for</th>\n",
       "      <th>it</th>\n",
       "      <th>love</th>\n",
       "      <th>my</th>\n",
       "      <th>of</th>\n",
       "      <th>sport</th>\n",
       "      <th>the</th>\n",
       "      <th>there</th>\n",
       "      <th>time</th>\n",
       "    </tr>\n",
       "  </thead>\n",
       "  <tbody>\n",
       "    <tr>\n",
       "      <th>0</th>\n",
       "      <td>0.000000</td>\n",
       "      <td>0.375716</td>\n",
       "      <td>0.375716</td>\n",
       "      <td>0.000000</td>\n",
       "      <td>0.285742</td>\n",
       "      <td>0.000000</td>\n",
       "      <td>0.375716</td>\n",
       "      <td>0.285742</td>\n",
       "      <td>0.285742</td>\n",
       "      <td>0.375716</td>\n",
       "      <td>0.221904</td>\n",
       "      <td>0.000000</td>\n",
       "      <td>0.000000</td>\n",
       "      <td>0.375716</td>\n",
       "    </tr>\n",
       "    <tr>\n",
       "      <th>1</th>\n",
       "      <td>0.000000</td>\n",
       "      <td>0.000000</td>\n",
       "      <td>0.000000</td>\n",
       "      <td>0.725329</td>\n",
       "      <td>0.362664</td>\n",
       "      <td>0.000000</td>\n",
       "      <td>0.000000</td>\n",
       "      <td>0.362664</td>\n",
       "      <td>0.362664</td>\n",
       "      <td>0.000000</td>\n",
       "      <td>0.281641</td>\n",
       "      <td>0.000000</td>\n",
       "      <td>0.000000</td>\n",
       "      <td>0.000000</td>\n",
       "    </tr>\n",
       "    <tr>\n",
       "      <th>2</th>\n",
       "      <td>0.409146</td>\n",
       "      <td>0.000000</td>\n",
       "      <td>0.000000</td>\n",
       "      <td>0.311166</td>\n",
       "      <td>0.000000</td>\n",
       "      <td>0.409146</td>\n",
       "      <td>0.000000</td>\n",
       "      <td>0.000000</td>\n",
       "      <td>0.000000</td>\n",
       "      <td>0.000000</td>\n",
       "      <td>0.483296</td>\n",
       "      <td>0.409146</td>\n",
       "      <td>0.409146</td>\n",
       "      <td>0.000000</td>\n",
       "    </tr>\n",
       "  </tbody>\n",
       "</table>\n",
       "</div>"
      ],
      "text/plain": [
       "       ages       all  baseball   cricket  favorite       for        it  \\\n",
       "0  0.000000  0.375716  0.375716  0.000000  0.285742  0.000000  0.375716   \n",
       "1  0.000000  0.000000  0.000000  0.725329  0.362664  0.000000  0.000000   \n",
       "2  0.409146  0.000000  0.000000  0.311166  0.000000  0.409146  0.000000   \n",
       "\n",
       "       love        my        of     sport       the     there      time  \n",
       "0  0.285742  0.285742  0.375716  0.221904  0.000000  0.000000  0.375716  \n",
       "1  0.362664  0.362664  0.000000  0.281641  0.000000  0.000000  0.000000  \n",
       "2  0.000000  0.000000  0.000000  0.483296  0.409146  0.409146  0.000000  "
      ]
     },
     "execution_count": 18,
     "metadata": {},
     "output_type": "execute_result"
    }
   ],
   "source": [
    "scratch_df"
   ]
  },
  {
   "cell_type": "markdown",
   "id": "b68f01ec-d24f-44e6-812c-cd24735d14fc",
   "metadata": {},
   "source": [
    "Here's the DataFrame of values calculated by sklearn:"
   ]
  },
  {
   "cell_type": "code",
   "execution_count": 19,
   "id": "16a8927f-2a64-4275-8301-f44ebd656ec8",
   "metadata": {},
   "outputs": [
    {
     "data": {
      "text/html": [
       "<div>\n",
       "<style scoped>\n",
       "    .dataframe tbody tr th:only-of-type {\n",
       "        vertical-align: middle;\n",
       "    }\n",
       "\n",
       "    .dataframe tbody tr th {\n",
       "        vertical-align: top;\n",
       "    }\n",
       "\n",
       "    .dataframe thead th {\n",
       "        text-align: right;\n",
       "    }\n",
       "</style>\n",
       "<table border=\"1\" class=\"dataframe\">\n",
       "  <thead>\n",
       "    <tr style=\"text-align: right;\">\n",
       "      <th></th>\n",
       "      <th>ages</th>\n",
       "      <th>all</th>\n",
       "      <th>baseball</th>\n",
       "      <th>cricket</th>\n",
       "      <th>favorite</th>\n",
       "      <th>for</th>\n",
       "      <th>it</th>\n",
       "      <th>love</th>\n",
       "      <th>my</th>\n",
       "      <th>of</th>\n",
       "      <th>sport</th>\n",
       "      <th>the</th>\n",
       "      <th>there</th>\n",
       "      <th>time</th>\n",
       "    </tr>\n",
       "  </thead>\n",
       "  <tbody>\n",
       "    <tr>\n",
       "      <th>0</th>\n",
       "      <td>0.000000</td>\n",
       "      <td>0.375716</td>\n",
       "      <td>0.375716</td>\n",
       "      <td>0.000000</td>\n",
       "      <td>0.285742</td>\n",
       "      <td>0.000000</td>\n",
       "      <td>0.375716</td>\n",
       "      <td>0.285742</td>\n",
       "      <td>0.285742</td>\n",
       "      <td>0.375716</td>\n",
       "      <td>0.221904</td>\n",
       "      <td>0.000000</td>\n",
       "      <td>0.000000</td>\n",
       "      <td>0.375716</td>\n",
       "    </tr>\n",
       "    <tr>\n",
       "      <th>1</th>\n",
       "      <td>0.000000</td>\n",
       "      <td>0.000000</td>\n",
       "      <td>0.000000</td>\n",
       "      <td>0.725329</td>\n",
       "      <td>0.362664</td>\n",
       "      <td>0.000000</td>\n",
       "      <td>0.000000</td>\n",
       "      <td>0.362664</td>\n",
       "      <td>0.362664</td>\n",
       "      <td>0.000000</td>\n",
       "      <td>0.281641</td>\n",
       "      <td>0.000000</td>\n",
       "      <td>0.000000</td>\n",
       "      <td>0.000000</td>\n",
       "    </tr>\n",
       "    <tr>\n",
       "      <th>2</th>\n",
       "      <td>0.409146</td>\n",
       "      <td>0.000000</td>\n",
       "      <td>0.000000</td>\n",
       "      <td>0.311166</td>\n",
       "      <td>0.000000</td>\n",
       "      <td>0.409146</td>\n",
       "      <td>0.000000</td>\n",
       "      <td>0.000000</td>\n",
       "      <td>0.000000</td>\n",
       "      <td>0.000000</td>\n",
       "      <td>0.483296</td>\n",
       "      <td>0.409146</td>\n",
       "      <td>0.409146</td>\n",
       "      <td>0.000000</td>\n",
       "    </tr>\n",
       "  </tbody>\n",
       "</table>\n",
       "</div>"
      ],
      "text/plain": [
       "       ages       all  baseball   cricket  favorite       for        it  \\\n",
       "0  0.000000  0.375716  0.375716  0.000000  0.285742  0.000000  0.375716   \n",
       "1  0.000000  0.000000  0.000000  0.725329  0.362664  0.000000  0.000000   \n",
       "2  0.409146  0.000000  0.000000  0.311166  0.000000  0.409146  0.000000   \n",
       "\n",
       "       love        my        of     sport       the     there      time  \n",
       "0  0.285742  0.285742  0.375716  0.221904  0.000000  0.000000  0.375716  \n",
       "1  0.362664  0.362664  0.000000  0.281641  0.000000  0.000000  0.000000  \n",
       "2  0.000000  0.000000  0.000000  0.483296  0.409146  0.409146  0.000000  "
      ]
     },
     "execution_count": 19,
     "metadata": {},
     "output_type": "execute_result"
    }
   ],
   "source": [
    "sklearn_df"
   ]
  },
  {
   "cell_type": "markdown",
   "id": "bace21a4-518f-4406-85df-880c5ec063c6",
   "metadata": {},
   "source": [
    "We can verify the values are close by using the `np.allclose` function:"
   ]
  },
  {
   "cell_type": "code",
   "execution_count": 20,
   "id": "579363d2-3913-4f21-b2a0-06edf561ed6c",
   "metadata": {},
   "outputs": [
    {
     "data": {
      "text/plain": [
       "True"
      ]
     },
     "execution_count": 20,
     "metadata": {},
     "output_type": "execute_result"
    }
   ],
   "source": [
    "np.allclose(sklearn_df.values, scratch_df.values)"
   ]
  },
  {
   "cell_type": "markdown",
   "id": "d26000ca-772f-4fb9-8cbc-b3277a3cc3cc",
   "metadata": {},
   "source": [
    "However, the values are not actually equal!"
   ]
  },
  {
   "cell_type": "code",
   "execution_count": 21,
   "id": "57edfff7-ca22-4193-a7cf-985ff3249360",
   "metadata": {},
   "outputs": [
    {
     "data": {
      "text/plain": [
       "False"
      ]
     },
     "execution_count": 21,
     "metadata": {},
     "output_type": "execute_result"
    }
   ],
   "source": [
    "scratch_df.equals(sklearn_df)"
   ]
  },
  {
   "cell_type": "markdown",
   "id": "2e78a3af-7194-4195-a938-a0f2265f5ab8",
   "metadata": {},
   "source": [
    "If we check the values in the first document, we find that some are actually different.\n",
    "\n",
    "These differences are most likely due to numerical rounding issues as they are miniscule."
   ]
  },
  {
   "cell_type": "code",
   "execution_count": 22,
   "id": "c4bd3ebd-b46d-4b50-8116-0c291dcdc7d3",
   "metadata": {},
   "outputs": [
    {
     "data": {
      "text/plain": [
       "ages        0.000000e+00\n",
       "all         0.000000e+00\n",
       "baseball    0.000000e+00\n",
       "cricket     0.000000e+00\n",
       "favorite    5.551115e-17\n",
       "for         0.000000e+00\n",
       "it          0.000000e+00\n",
       "love        5.551115e-17\n",
       "my          5.551115e-17\n",
       "of          0.000000e+00\n",
       "sport       2.775558e-17\n",
       "the         0.000000e+00\n",
       "there       0.000000e+00\n",
       "time        0.000000e+00\n",
       "Name: 0, dtype: float64"
      ]
     },
     "execution_count": 22,
     "metadata": {},
     "output_type": "execute_result"
    }
   ],
   "source": [
    "abs(scratch_df.iloc[0] - sklearn_df.iloc[0])"
   ]
  },
  {
   "cell_type": "markdown",
   "id": "76fc48e6-124b-44e9-b722-c4cda06577f0",
   "metadata": {},
   "source": [
    "We can now calculate TF-IDF embeddings for arbitrary documents. We have to calculate the term frequency values for the document, but we re-use the vocabulary and IDF values."
   ]
  },
  {
   "cell_type": "code",
   "execution_count": 23,
   "id": "4b979a39-2991-44e3-b1af-b0767fc223c9",
   "metadata": {},
   "outputs": [
    {
     "data": {
      "text/plain": [
       "[{'ages': 0.0,\n",
       "  'all': 0.0,\n",
       "  'baseball': 0.0,\n",
       "  'cricket': 0.5268201732399633,\n",
       "  'favorite': 0.5268201732399633,\n",
       "  'for': 0.0,\n",
       "  'it': 0.0,\n",
       "  'love': 0.0,\n",
       "  'my': 0.5268201732399633,\n",
       "  'of': 0.0,\n",
       "  'sport': 0.4091228607670865,\n",
       "  'the': 0.0,\n",
       "  'there': 0.0,\n",
       "  'time': 0.0}]"
      ]
     },
     "execution_count": 23,
     "metadata": {},
     "output_type": "execute_result"
    }
   ],
   "source": [
    "doc = [\"cricket is my favorite sport.\"]\n",
    "\n",
    "doc_tf = get_tf(doc, vocabulary, tokenizer)\n",
    "doc_tfidf = get_tfidf(doc_tf, idf)\n",
    "doc_tfidf"
   ]
  },
  {
   "cell_type": "markdown",
   "id": "90467539-6be4-4135-a3a2-1bb5d1bab31e",
   "metadata": {},
   "source": [
    "One thing to note is that all tokens not in the vocabulary will not have a value in the output TF-IDF vector, e.g. if you have documents that mention a sport that isn't cricket or baseball. Therefore, it's important your documents used to create the TF-IDF transformation are representative of what you actually want to apply the transformation on."
   ]
  }
 ],
 "metadata": {
  "kernelspec": {
   "display_name": "Python 3 (ipykernel)",
   "language": "python",
   "name": "python3"
  },
  "language_info": {
   "codemirror_mode": {
    "name": "ipython",
    "version": 3
   },
   "file_extension": ".py",
   "mimetype": "text/x-python",
   "name": "python",
   "nbconvert_exporter": "python",
   "pygments_lexer": "ipython3",
   "version": "3.9.12"
  }
 },
 "nbformat": 4,
 "nbformat_minor": 5
}
