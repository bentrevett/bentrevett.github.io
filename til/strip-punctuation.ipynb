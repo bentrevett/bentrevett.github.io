{
 "cells": [
  {
   "cell_type": "markdown",
   "id": "e90f41cd",
   "metadata": {},
   "source": [
    "# What's the best way to strip punctuation from a string in Python?\n",
    "\n",
    "First, is there a convenient way to get all punctuation characters? Turns out there is with the built-in `string` library.\n"
   ]
  },
  {
   "cell_type": "code",
   "execution_count": 1,
   "id": "59cba2ea",
   "metadata": {},
   "outputs": [
    {
     "data": {
      "text/plain": [
       "'!\"#$%&\\'()*+,-./:;<=>?@[\\\\]^_`{|}~'"
      ]
     },
     "execution_count": 1,
     "metadata": {},
     "output_type": "execute_result"
    }
   ],
   "source": [
    "import string\n",
    "\n",
    "string.punctuation"
   ]
  },
  {
   "cell_type": "markdown",
   "id": "9ed33bb7",
   "metadata": {},
   "source": [
    "One approach would be to use a list comprehension.\n"
   ]
  },
  {
   "cell_type": "code",
   "execution_count": 2,
   "id": "fd8df1ec",
   "metadata": {},
   "outputs": [],
   "source": [
    "PUNCTUATION = set(string.punctuation)"
   ]
  },
  {
   "cell_type": "code",
   "execution_count": 3,
   "id": "298f866f",
   "metadata": {},
   "outputs": [],
   "source": [
    "def remove_punctuation_set(s):\n",
    "    return \"\".join(c for c in s if c not in PUNCTUATION)"
   ]
  },
  {
   "cell_type": "code",
   "execution_count": 4,
   "id": "da16a951",
   "metadata": {},
   "outputs": [
    {
     "data": {
      "text/plain": [
       "'Hello world How are you Im good hope you are too'"
      ]
     },
     "execution_count": 4,
     "metadata": {},
     "output_type": "execute_result"
    }
   ],
   "source": [
    "TEST_STRING = \"Hello world! How are you? I'm good, hope you are too!\"\n",
    "\n",
    "remove_punctuation_set(TEST_STRING)"
   ]
  },
  {
   "cell_type": "markdown",
   "id": "84e72e27",
   "metadata": {},
   "source": [
    "Next, we can look at regular expressions.\n",
    "\n",
    "`re.sub` replaces matches with a given character. Here, we'd replace punctuation tokens with an empty character.\n",
    "\n",
    "Naively, we'd think about doing something like `re.sub(f\"[{string.punctuation}]\", \"\", TEST_STRING)`, however this has a few issues:\n",
    "\n",
    "- It's faster to compile the regex pattern first\n",
    "- A lot of the punctuation tokens are special characters which need to be escaped\n",
    "\n",
    "Luckily, there's the `re.escape` function which escapes a given string.\n"
   ]
  },
  {
   "cell_type": "code",
   "execution_count": 5,
   "id": "38b51d18",
   "metadata": {},
   "outputs": [
    {
     "data": {
      "text/plain": [
       "'!\"\\\\#\\\\$%\\\\&\\'\\\\(\\\\)\\\\*\\\\+,\\\\-\\\\./:;<=>\\\\?@\\\\[\\\\\\\\\\\\]\\\\^_`\\\\{\\\\|\\\\}\\\\~'"
      ]
     },
     "execution_count": 5,
     "metadata": {},
     "output_type": "execute_result"
    }
   ],
   "source": [
    "import re\n",
    "\n",
    "re.escape(string.punctuation)"
   ]
  },
  {
   "cell_type": "markdown",
   "id": "272f3b30",
   "metadata": {},
   "source": [
    "We can now create our re-compiled regex. Using square brackets in regex means that we match on any given pattern within the brackets.\n"
   ]
  },
  {
   "cell_type": "code",
   "execution_count": 6,
   "id": "ce5e1297",
   "metadata": {},
   "outputs": [],
   "source": [
    "PATTERN = re.compile(f\"[{re.escape(string.punctuation)}]\")"
   ]
  },
  {
   "cell_type": "code",
   "execution_count": 7,
   "id": "41bf9dbd",
   "metadata": {},
   "outputs": [],
   "source": [
    "def remove_punctuation_regex(s):\n",
    "    return PATTERN.sub(\"\", s)"
   ]
  },
  {
   "cell_type": "code",
   "execution_count": 8,
   "id": "1af3eacc",
   "metadata": {},
   "outputs": [
    {
     "data": {
      "text/plain": [
       "'Hello world How are you Im good hope you are too'"
      ]
     },
     "execution_count": 8,
     "metadata": {},
     "output_type": "execute_result"
    }
   ],
   "source": [
    "remove_punctuation_regex(TEST_STRING)"
   ]
  },
  {
   "cell_type": "markdown",
   "id": "81a03752",
   "metadata": {},
   "source": [
    "Finally, there's a little known approach using the `translate` methods on strings. This transforms a string using a mapping (e.g. a dictionary) between ordinals (and refers to these mappings as \"translation tables\").\n",
    "\n",
    "What do we mean by ordinals? An ordinal is an integer value assigned to a character in Unicode encoding. We can get the ordinal for a character using the built-in `ord` function.\n"
   ]
  },
  {
   "cell_type": "code",
   "execution_count": 9,
   "id": "d03f1358",
   "metadata": {},
   "outputs": [
    {
     "data": {
      "text/plain": [
       "(97, 98, 99)"
      ]
     },
     "execution_count": 9,
     "metadata": {},
     "output_type": "execute_result"
    }
   ],
   "source": [
    "ord(\"a\"), ord(\"b\"), ord(\"c\")"
   ]
  },
  {
   "cell_type": "markdown",
   "id": "c2c2a46e",
   "metadata": {},
   "source": [
    "We can also go from ordinals back into characters using the built-in `chr` function.\n"
   ]
  },
  {
   "cell_type": "code",
   "execution_count": 10,
   "id": "e0f11507",
   "metadata": {},
   "outputs": [
    {
     "data": {
      "text/plain": [
       "('a', 'b', 'c')"
      ]
     },
     "execution_count": 10,
     "metadata": {},
     "output_type": "execute_result"
    }
   ],
   "source": [
    "chr(97), chr(98), chr(99)"
   ]
  },
  {
   "cell_type": "markdown",
   "id": "24bc65d1",
   "metadata": {},
   "source": [
    "An example of using `translate`:\n"
   ]
  },
  {
   "cell_type": "code",
   "execution_count": 11,
   "id": "2e0e6515",
   "metadata": {},
   "outputs": [
    {
     "data": {
      "text/plain": [
       "'hello world'"
      ]
     },
     "execution_count": 11,
     "metadata": {},
     "output_type": "execute_result"
    }
   ],
   "source": [
    "\"hebbo worbd!\".translate(\n",
    "    {\n",
    "        ord(\"b\"): ord(\"l\"),\n",
    "        ord(\"!\"): None,  # mapping to None removes the character\n",
    "    }\n",
    ")"
   ]
  },
  {
   "cell_type": "markdown",
   "id": "e88a99c4",
   "metadata": {},
   "source": [
    "So, all we have to do is create the mapping from all punctuation tokens to `None`, like so:\n"
   ]
  },
  {
   "cell_type": "code",
   "execution_count": 12,
   "id": "a1dc6a40",
   "metadata": {},
   "outputs": [],
   "source": [
    "PUNCTUATION_MAPPING = {ord(c): None for c in string.punctuation}\n",
    "\n",
    "\n",
    "def remove_punctuation_translate(s):\n",
    "    return s.translate(PUNCTUATION_MAPPING)"
   ]
  },
  {
   "cell_type": "code",
   "execution_count": 13,
   "id": "ea9238df",
   "metadata": {},
   "outputs": [
    {
     "data": {
      "text/plain": [
       "'Hello world How are you Im good hope you are too'"
      ]
     },
     "execution_count": 13,
     "metadata": {},
     "output_type": "execute_result"
    }
   ],
   "source": [
    "remove_punctuation_translate(TEST_STRING)"
   ]
  },
  {
   "cell_type": "markdown",
   "id": "24e560a1",
   "metadata": {},
   "source": [
    "There's also a helpful function under the `str` namespace that creates the mappings (aka translation tables) for us:\n"
   ]
  },
  {
   "cell_type": "code",
   "execution_count": 14,
   "id": "ae78e5f5",
   "metadata": {},
   "outputs": [
    {
     "data": {
      "text/plain": [
       "'hello world'"
      ]
     },
     "execution_count": 14,
     "metadata": {},
     "output_type": "execute_result"
    }
   ],
   "source": [
    "table = str.maketrans(\"b\", \"l\", \"!\")\n",
    "\n",
    "\"hebbo worbd\".translate(table)"
   ]
  },
  {
   "cell_type": "markdown",
   "id": "bb909772",
   "metadata": {},
   "source": [
    "The first argument of `maketrans` are strings you want to replace with the second argument, where the i'th character in the first argument is replaced by the i'th character in the second argument. The third argument (which is optional) denotes strings which we want to remove.\n",
    "\n",
    "By having the first and second argument be empty strings and using `string.punctuation` as the third argument we can replicate our `PUNCTUATION_MAPPING` dictionary.\n"
   ]
  },
  {
   "cell_type": "code",
   "execution_count": 15,
   "id": "9460feeb",
   "metadata": {},
   "outputs": [],
   "source": [
    "assert str.maketrans(\"\", \"\", string.punctuation) == PUNCTUATION_MAPPING"
   ]
  },
  {
   "cell_type": "markdown",
   "id": "862df470",
   "metadata": {},
   "source": [
    "We can now benchmark each of our approaches using `timeit`.\n"
   ]
  },
  {
   "cell_type": "code",
   "execution_count": 16,
   "id": "16ef29cb",
   "metadata": {},
   "outputs": [],
   "source": [
    "import timeit\n",
    "\n",
    "n = 1_000_000\n",
    "\n",
    "set_time = timeit.timeit(\n",
    "    \"remove_punctuation_set(TEST_STRING)\",\n",
    "    globals=globals(),\n",
    "    number=n,\n",
    ")\n",
    "\n",
    "regex_time = timeit.timeit(\n",
    "    \"remove_punctuation_regex(TEST_STRING)\",\n",
    "    globals=globals(),\n",
    "    number=n,\n",
    ")\n",
    "\n",
    "translate_time = timeit.timeit(\n",
    "    \"remove_punctuation_translate(TEST_STRING)\",\n",
    "    globals=globals(),\n",
    "    number=n,\n",
    ")"
   ]
  },
  {
   "cell_type": "markdown",
   "id": "9f312b9b",
   "metadata": {},
   "source": [
    "The results:\n"
   ]
  },
  {
   "cell_type": "code",
   "execution_count": 17,
   "id": "3265be6e",
   "metadata": {},
   "outputs": [
    {
     "name": "stdout",
     "output_type": "stream",
     "text": [
      "set      : 2.3104199539998262\n",
      "regex    : 0.9609262190001573\n",
      "translate: 0.8181181009999818\n"
     ]
    }
   ],
   "source": [
    "print(f\"set      : {set_time}\")\n",
    "print(f\"regex    : {regex_time}\")\n",
    "print(f\"translate: {translate_time}\")"
   ]
  },
  {
   "cell_type": "markdown",
   "id": "aa0bd434",
   "metadata": {},
   "source": [
    "Conclusion: either regex or translate is fine, with translate being slightly faster.\n"
   ]
  }
 ],
 "metadata": {
  "kernelspec": {
   "display_name": "Python 3 (ipykernel)",
   "language": "python",
   "name": "python3"
  },
  "language_info": {
   "codemirror_mode": {
    "name": "ipython",
    "version": 3
   },
   "file_extension": ".py",
   "mimetype": "text/x-python",
   "name": "python",
   "nbconvert_exporter": "python",
   "pygments_lexer": "ipython3",
   "version": "3.9.12"
  }
 },
 "nbformat": 4,
 "nbformat_minor": 5
}
