{
 "cells": [
  {
   "cell_type": "markdown",
   "id": "2c2dd28e-ade8-435f-a670-f354958a9b15",
   "metadata": {},
   "source": [
    "# Building Decision Trees and Random Forests from scratch\n",
    "\n",
    "Decision trees are a fundamental algorithm in machine learning. Random forests are a method of improving the performance of decision trees by training an _ensemble_ of them, i.e. training multiple decision trees and aggregating their results.\n",
    "\n",
    "Our decision trees and random forests will be trained on the BMI dataset from [here](https://www.kaggle.com/datasets/yersever/500-person-gender-height-weight-bodymassindex) which I've downloaded and renamed to `bmi-data.csv`. We'll open it in pandas:\n"
   ]
  },
  {
   "cell_type": "code",
   "execution_count": 1,
   "id": "ff7525de-162f-40ce-bb31-c95af1383ca1",
   "metadata": {},
   "outputs": [
    {
     "data": {
      "text/html": [
       "<div>\n",
       "<style scoped>\n",
       "    .dataframe tbody tr th:only-of-type {\n",
       "        vertical-align: middle;\n",
       "    }\n",
       "\n",
       "    .dataframe tbody tr th {\n",
       "        vertical-align: top;\n",
       "    }\n",
       "\n",
       "    .dataframe thead th {\n",
       "        text-align: right;\n",
       "    }\n",
       "</style>\n",
       "<table border=\"1\" class=\"dataframe\">\n",
       "  <thead>\n",
       "    <tr style=\"text-align: right;\">\n",
       "      <th></th>\n",
       "      <th>Gender</th>\n",
       "      <th>Height</th>\n",
       "      <th>Weight</th>\n",
       "      <th>Index</th>\n",
       "    </tr>\n",
       "  </thead>\n",
       "  <tbody>\n",
       "    <tr>\n",
       "      <th>0</th>\n",
       "      <td>Male</td>\n",
       "      <td>174</td>\n",
       "      <td>96</td>\n",
       "      <td>4</td>\n",
       "    </tr>\n",
       "    <tr>\n",
       "      <th>1</th>\n",
       "      <td>Male</td>\n",
       "      <td>189</td>\n",
       "      <td>87</td>\n",
       "      <td>2</td>\n",
       "    </tr>\n",
       "    <tr>\n",
       "      <th>2</th>\n",
       "      <td>Female</td>\n",
       "      <td>185</td>\n",
       "      <td>110</td>\n",
       "      <td>4</td>\n",
       "    </tr>\n",
       "    <tr>\n",
       "      <th>3</th>\n",
       "      <td>Female</td>\n",
       "      <td>195</td>\n",
       "      <td>104</td>\n",
       "      <td>3</td>\n",
       "    </tr>\n",
       "    <tr>\n",
       "      <th>4</th>\n",
       "      <td>Male</td>\n",
       "      <td>149</td>\n",
       "      <td>61</td>\n",
       "      <td>3</td>\n",
       "    </tr>\n",
       "    <tr>\n",
       "      <th>...</th>\n",
       "      <td>...</td>\n",
       "      <td>...</td>\n",
       "      <td>...</td>\n",
       "      <td>...</td>\n",
       "    </tr>\n",
       "    <tr>\n",
       "      <th>495</th>\n",
       "      <td>Female</td>\n",
       "      <td>150</td>\n",
       "      <td>153</td>\n",
       "      <td>5</td>\n",
       "    </tr>\n",
       "    <tr>\n",
       "      <th>496</th>\n",
       "      <td>Female</td>\n",
       "      <td>184</td>\n",
       "      <td>121</td>\n",
       "      <td>4</td>\n",
       "    </tr>\n",
       "    <tr>\n",
       "      <th>497</th>\n",
       "      <td>Female</td>\n",
       "      <td>141</td>\n",
       "      <td>136</td>\n",
       "      <td>5</td>\n",
       "    </tr>\n",
       "    <tr>\n",
       "      <th>498</th>\n",
       "      <td>Male</td>\n",
       "      <td>150</td>\n",
       "      <td>95</td>\n",
       "      <td>5</td>\n",
       "    </tr>\n",
       "    <tr>\n",
       "      <th>499</th>\n",
       "      <td>Male</td>\n",
       "      <td>173</td>\n",
       "      <td>131</td>\n",
       "      <td>5</td>\n",
       "    </tr>\n",
       "  </tbody>\n",
       "</table>\n",
       "<p>500 rows × 4 columns</p>\n",
       "</div>"
      ],
      "text/plain": [
       "     Gender  Height  Weight  Index\n",
       "0      Male     174      96      4\n",
       "1      Male     189      87      2\n",
       "2    Female     185     110      4\n",
       "3    Female     195     104      3\n",
       "4      Male     149      61      3\n",
       "..      ...     ...     ...    ...\n",
       "495  Female     150     153      5\n",
       "496  Female     184     121      4\n",
       "497  Female     141     136      5\n",
       "498    Male     150      95      5\n",
       "499    Male     173     131      5\n",
       "\n",
       "[500 rows x 4 columns]"
      ]
     },
     "execution_count": 1,
     "metadata": {},
     "output_type": "execute_result"
    }
   ],
   "source": [
    "import pandas as pd\n",
    "\n",
    "data = pd.read_csv(\"bmi-data.csv\")\n",
    "\n",
    "data"
   ]
  },
  {
   "cell_type": "markdown",
   "id": "f82ce2a9",
   "metadata": {},
   "source": [
    "Our dataset has genders, heights, weights and BMIs for 500 people. We'll use the gender, height and weight to predict the BMI. To make things slightly easier, instead of predicting BMI directly, we'll predict if the BMI is obese or not, which is when the Index column is >= 4.\n"
   ]
  },
  {
   "cell_type": "code",
   "execution_count": 2,
   "id": "a90b7f7f-f295-49c3-8724-3ee81f49baaf",
   "metadata": {},
   "outputs": [
    {
     "data": {
      "text/html": [
       "<div>\n",
       "<style scoped>\n",
       "    .dataframe tbody tr th:only-of-type {\n",
       "        vertical-align: middle;\n",
       "    }\n",
       "\n",
       "    .dataframe tbody tr th {\n",
       "        vertical-align: top;\n",
       "    }\n",
       "\n",
       "    .dataframe thead th {\n",
       "        text-align: right;\n",
       "    }\n",
       "</style>\n",
       "<table border=\"1\" class=\"dataframe\">\n",
       "  <thead>\n",
       "    <tr style=\"text-align: right;\">\n",
       "      <th></th>\n",
       "      <th>Gender</th>\n",
       "      <th>Height</th>\n",
       "      <th>Weight</th>\n",
       "      <th>Obese</th>\n",
       "    </tr>\n",
       "  </thead>\n",
       "  <tbody>\n",
       "    <tr>\n",
       "      <th>0</th>\n",
       "      <td>Male</td>\n",
       "      <td>174</td>\n",
       "      <td>96</td>\n",
       "      <td>1</td>\n",
       "    </tr>\n",
       "    <tr>\n",
       "      <th>1</th>\n",
       "      <td>Male</td>\n",
       "      <td>189</td>\n",
       "      <td>87</td>\n",
       "      <td>0</td>\n",
       "    </tr>\n",
       "    <tr>\n",
       "      <th>2</th>\n",
       "      <td>Female</td>\n",
       "      <td>185</td>\n",
       "      <td>110</td>\n",
       "      <td>1</td>\n",
       "    </tr>\n",
       "    <tr>\n",
       "      <th>3</th>\n",
       "      <td>Female</td>\n",
       "      <td>195</td>\n",
       "      <td>104</td>\n",
       "      <td>0</td>\n",
       "    </tr>\n",
       "    <tr>\n",
       "      <th>4</th>\n",
       "      <td>Male</td>\n",
       "      <td>149</td>\n",
       "      <td>61</td>\n",
       "      <td>0</td>\n",
       "    </tr>\n",
       "    <tr>\n",
       "      <th>...</th>\n",
       "      <td>...</td>\n",
       "      <td>...</td>\n",
       "      <td>...</td>\n",
       "      <td>...</td>\n",
       "    </tr>\n",
       "    <tr>\n",
       "      <th>495</th>\n",
       "      <td>Female</td>\n",
       "      <td>150</td>\n",
       "      <td>153</td>\n",
       "      <td>1</td>\n",
       "    </tr>\n",
       "    <tr>\n",
       "      <th>496</th>\n",
       "      <td>Female</td>\n",
       "      <td>184</td>\n",
       "      <td>121</td>\n",
       "      <td>1</td>\n",
       "    </tr>\n",
       "    <tr>\n",
       "      <th>497</th>\n",
       "      <td>Female</td>\n",
       "      <td>141</td>\n",
       "      <td>136</td>\n",
       "      <td>1</td>\n",
       "    </tr>\n",
       "    <tr>\n",
       "      <th>498</th>\n",
       "      <td>Male</td>\n",
       "      <td>150</td>\n",
       "      <td>95</td>\n",
       "      <td>1</td>\n",
       "    </tr>\n",
       "    <tr>\n",
       "      <th>499</th>\n",
       "      <td>Male</td>\n",
       "      <td>173</td>\n",
       "      <td>131</td>\n",
       "      <td>1</td>\n",
       "    </tr>\n",
       "  </tbody>\n",
       "</table>\n",
       "<p>500 rows × 4 columns</p>\n",
       "</div>"
      ],
      "text/plain": [
       "     Gender  Height  Weight  Obese\n",
       "0      Male     174      96      1\n",
       "1      Male     189      87      0\n",
       "2    Female     185     110      1\n",
       "3    Female     195     104      0\n",
       "4      Male     149      61      0\n",
       "..      ...     ...     ...    ...\n",
       "495  Female     150     153      1\n",
       "496  Female     184     121      1\n",
       "497  Female     141     136      1\n",
       "498    Male     150      95      1\n",
       "499    Male     173     131      1\n",
       "\n",
       "[500 rows x 4 columns]"
      ]
     },
     "execution_count": 2,
     "metadata": {},
     "output_type": "execute_result"
    }
   ],
   "source": [
    "data[\"Obese\"] = (data[\"Index\"] >= 4).astype(\"int\")\n",
    "data = data.drop(\"Index\", axis=1)\n",
    "\n",
    "data"
   ]
  },
  {
   "cell_type": "markdown",
   "id": "9b329465-7e6b-4067-91e3-0f30e82dc3d2",
   "metadata": {},
   "source": [
    "How do we predict if someone is obese using a decision tree? A decision tree consists of a series of binary rules (they either have a yes/no outcome), e.g. if weight >= 100 kg, then the tree predicts the person is obese. The key concept is that the tree is made of multiple stacked rules, and each rule is used to _split_ the data. At each split, some data is routed in one direction and some another. The data is continuously split until it reaches the point where it cannot be split anymore, which is where our decision tree makes a prediction. Each split in the tree is called a _node_, and the final nodes (where no more splits are made) are called _leaf nodes_.\n",
    "\n",
    "The decision tree starts with no nodes, these are learned when the decision tree is trained (or fit) on the training data. Once the tree is trained, we can use it to make predictions on new data. The algorithm for training a decision tree uses a _cost function_ to determine how to perform a split at each node. The cost function uses _impurity_, which measures how likely the target value is to be incorrectly classified. The two most common cost functions are the Gini index and entropy, here we'll just focus on entropy.\n",
    "\n",
    "Let's compare at what happens if we make a single split in the data when we predict obesity at weight >= 100 kg and obesity at weight >= 80 kg. We can count the number of mistakes made both splits:\n"
   ]
  },
  {
   "cell_type": "code",
   "execution_count": 3,
   "id": "89b5373b-e34c-4d54-bf92-1a71e1078f45",
   "metadata": {},
   "outputs": [
    {
     "data": {
      "text/plain": [
       "(18, 63)"
      ]
     },
     "execution_count": 3,
     "metadata": {},
     "output_type": "execute_result"
    }
   ],
   "source": [
    "df_100kg = data[(data[\"Weight\"] >= 100) & (data[\"Obese\"] == 0)]\n",
    "df_80kg = data[(data[\"Weight\"] >= 80) & (data[\"Obese\"] == 0)]\n",
    "\n",
    "len(df_100kg), len(df_80kg)"
   ]
  },
  {
   "cell_type": "markdown",
   "id": "db50957c",
   "metadata": {},
   "source": [
    "We can see that splitting at 100 kg made 18 mistakes, and splitting at 80 kg made 63 mistakes. Therefore the split at 100 kg is less impure and thus is a better split. Cost functions are used to find splits that minimize impurity.\n",
    "\n",
    "Entropy can be used as a measurement of impurity and is given by: $$H(X) = -\\sum_{i=1}^{n} p(x_i) \\log_2 p(x_i)$$ where $p(x_i)$ is the probability of class $x_i$ occurring. The entropy is 0 when all the data is of the same class (minimum impurity), and is 1 when the data is evenly split between classes (maximum impurity).\n"
   ]
  },
  {
   "cell_type": "code",
   "execution_count": 4,
   "id": "fb41f186-e638-4fc1-b6f5-9a3cf3b79a7b",
   "metadata": {},
   "outputs": [],
   "source": [
    "import numpy as np\n",
    "\n",
    "\n",
    "def entropy(x):\n",
    "    assert isinstance(x, pd.Series)\n",
    "    p = x.value_counts() / len(x)\n",
    "    # 1e-10 is used to stop np.log2 throwing a division by zero error\n",
    "    entropy = -np.sum(p * np.log2(p + 1e-10))\n",
    "    return entropy"
   ]
  },
  {
   "cell_type": "markdown",
   "id": "dabc260b",
   "metadata": {},
   "source": [
    "We can now calculate the impurity for both of the splits, where we should see that the split at 100 kg has a lower impurity than the split at 80 kg (i.e. it makes less mistakes, is less impure, and is a better split).\n"
   ]
  },
  {
   "cell_type": "code",
   "execution_count": 5,
   "id": "8bbe8415",
   "metadata": {},
   "outputs": [
    {
     "data": {
      "text/plain": [
       "0.22364166419594184"
      ]
     },
     "execution_count": 5,
     "metadata": {},
     "output_type": "execute_result"
    }
   ],
   "source": [
    "entropy((data[\"Weight\"] >= 100) & (data[\"Obese\"] == 0))"
   ]
  },
  {
   "cell_type": "code",
   "execution_count": 6,
   "id": "f0f1b220-9bf2-4d5d-b135-4012602aaed5",
   "metadata": {},
   "outputs": [
    {
     "data": {
      "text/plain": [
       "0.5463652176690357"
      ]
     },
     "execution_count": 6,
     "metadata": {},
     "output_type": "execute_result"
    }
   ],
   "source": [
    "entropy((data[\"Weight\"] >= 80) & (data[\"Obese\"] == 0))"
   ]
  },
  {
   "cell_type": "markdown",
   "id": "2f9a56a7-52d9-4a98-9071-b32a1a4260cb",
   "metadata": {},
   "source": [
    "We know how to calculate impurity to tell us if a split is good or not, but what we'd like to do is calculate how much improvement in purity a split gives us compared to the data before the split. For this we use _information gain_. Information gain quantifies how much impurity in the data is reduced after a split. It is calculated as the difference in impurity before and after the split and uses entropy to measure this.\n"
   ]
  },
  {
   "cell_type": "code",
   "execution_count": 7,
   "id": "9d8e86f0-dbbd-412b-8b4d-d74be1827ad8",
   "metadata": {},
   "outputs": [],
   "source": [
    "def get_information_gain(series, mask):\n",
    "    n_true_split = sum(mask)\n",
    "    n_false_split = len(mask) - n_true_split\n",
    "    if n_true_split == 0 or n_false_split == 0:\n",
    "        return 0\n",
    "    original_impurity = entropy(series)\n",
    "    true_split_impurity = entropy(series[mask])\n",
    "    false_split_impurity = entropy(series[~mask])\n",
    "    weighted_average_impurity = (\n",
    "        n_true_split / len(mask) * true_split_impurity\n",
    "        + n_false_split / len(mask) * false_split_impurity\n",
    "    )\n",
    "    information_gain = original_impurity - weighted_average_impurity\n",
    "    return information_gain"
   ]
  },
  {
   "cell_type": "markdown",
   "id": "b8216e84-14f4-4204-9360-a69f74a650f5",
   "metadata": {},
   "source": [
    "We calculate the impurity of the data before the split, `original_impurity`, the impurities of the subsets of data created after the split, `true_split_impurity` and `false_split_impurity`, and then the combined impurity after the split taking into account the proportion of data in each subset to get the entropy after the split as `weighted_average_impurity`. The information gain is then the difference between the original entropy and the weighted average entropy after the split.\n",
    "\n",
    "We can see that just as splitting at >= 100 kg gave us a lower impurity, it also gave us a higher information gain.\n"
   ]
  },
  {
   "cell_type": "code",
   "execution_count": 8,
   "id": "ea97512a-6b36-4db0-984e-ac149eff68e5",
   "metadata": {},
   "outputs": [
    {
     "data": {
      "text/plain": [
       "0.35468741526665915"
      ]
     },
     "execution_count": 8,
     "metadata": {},
     "output_type": "execute_result"
    }
   ],
   "source": [
    "get_information_gain(data[\"Obese\"], data[\"Weight\"] >= 100)"
   ]
  },
  {
   "cell_type": "code",
   "execution_count": 9,
   "id": "06eafaf1-7150-440a-bcc3-9ca0307b46f7",
   "metadata": {},
   "outputs": [
    {
     "data": {
      "text/plain": [
       "0.3062635617880082"
      ]
     },
     "execution_count": 9,
     "metadata": {},
     "output_type": "execute_result"
    }
   ],
   "source": [
    "get_information_gain(data[\"Obese\"], data[\"Weight\"] >= 80)"
   ]
  },
  {
   "cell_type": "markdown",
   "id": "940bccfb",
   "metadata": {},
   "source": [
    "Now we know how to measure how good a split is, we can use this to build a decision tree. The steps we need to take on each node are:\n",
    "\n",
    "1. Calculate the information gain for all variables\n",
    "2. Choose the split that generates the highest information gain\n",
    "3. Repeat until we hit some stopping criteria\n",
    "\n",
    "When splitting numeric variables, e.g. weight, we get all values that variables takes within the current split, and for each value calculate the information gain when filtering all values _less_ than that value, then see which gives the highest information gain.\n",
    "\n",
    "When splitting categorical variables, e.g. gender, we get all combinations of values that variables takes within the current split and calculate the information gain for each combination. Note: if you have a significant number of categorical variables within a column the number of combinations explodes, so libraries that implement decision trees/random forests usually have a better way of handling this.\n",
    "\n",
    "We'll implement a function to get all potential combinations for a categorical variable:\n"
   ]
  },
  {
   "cell_type": "code",
   "execution_count": 10,
   "id": "8a5b5d9c-fd48-4324-a51c-d4adc8f8ed62",
   "metadata": {},
   "outputs": [],
   "source": [
    "import itertools\n",
    "\n",
    "\n",
    "def get_categorical_options(series):\n",
    "    assert isinstance(series, pd.Series)\n",
    "    series = set(series)\n",
    "    options = []\n",
    "    for i, _ in enumerate(series):\n",
    "        subset = itertools.combinations(series, i + 1)\n",
    "        options.extend(subset)\n",
    "    return options"
   ]
  },
  {
   "cell_type": "code",
   "execution_count": 11,
   "id": "cc5362bc",
   "metadata": {},
   "outputs": [
    {
     "data": {
      "text/plain": [
       "[('Green',),\n",
       " ('Red',),\n",
       " ('Blue',),\n",
       " ('Green', 'Red'),\n",
       " ('Green', 'Blue'),\n",
       " ('Red', 'Blue'),\n",
       " ('Green', 'Red', 'Blue')]"
      ]
     },
     "execution_count": 11,
     "metadata": {},
     "output_type": "execute_result"
    }
   ],
   "source": [
    "get_categorical_options(pd.Series([\"Red\", \"Red\", \"Blue\", \"Blue\", \"Green\"]))"
   ]
  },
  {
   "cell_type": "markdown",
   "id": "8d781a1b",
   "metadata": {},
   "source": [
    "Putting all this together, we can now define a function which, when given a feature column of a DataFrame and the label column, will calculate the information gain for all possible splits of that feature and return the best split.\n"
   ]
  },
  {
   "cell_type": "code",
   "execution_count": 12,
   "id": "5c9e4114-27a0-4166-a0fe-3f3e2a07ed2f",
   "metadata": {},
   "outputs": [],
   "source": [
    "def get_max_information_gain(x_series, y_series):\n",
    "    is_numeric = x_series.dtype != \"object\"\n",
    "    if is_numeric:\n",
    "        # Skip the first value as it is the minimum and if we split on it one of the splits will be empty.\n",
    "        split_values = x_series.sort_values().unique()[1:].tolist()\n",
    "    else:\n",
    "        split_values = get_categorical_options(x_series)\n",
    "    results = []\n",
    "    if not split_values:\n",
    "        # Handle the case when all values are the same, e.g. all one value.\n",
    "        return {\"split_value\": None, \"information_gain\": 0, \"is_numeric\": is_numeric}\n",
    "    for split_value in split_values:\n",
    "        mask = x_series < split_value if is_numeric else x_series.isin(split_value)\n",
    "        split_information_gain = get_information_gain(y_series, mask)\n",
    "        results.append(\n",
    "            {\n",
    "                \"value\": split_value,\n",
    "                \"information_gain\": split_information_gain,\n",
    "            }\n",
    "        )\n",
    "    results = sorted(results, key=lambda x: x[\"information_gain\"], reverse=True)\n",
    "    best_split_value = results[0][\"value\"]\n",
    "    best_information_gain = results[0][\"information_gain\"]\n",
    "    return {\n",
    "        \"split_value\": best_split_value,\n",
    "        \"information_gain\": best_information_gain,\n",
    "        \"is_numeric\": is_numeric,\n",
    "    }"
   ]
  },
  {
   "cell_type": "markdown",
   "id": "b90ea4f1",
   "metadata": {},
   "source": [
    "We can use this to get the best split for a given feature:\n"
   ]
  },
  {
   "cell_type": "code",
   "execution_count": 13,
   "id": "b60045fd-90e2-4978-968f-5352ed62ec73",
   "metadata": {},
   "outputs": [
    {
     "data": {
      "text/plain": [
       "{'split_value': 174,\n",
       " 'information_gain': 0.06474831770089884,\n",
       " 'is_numeric': True}"
      ]
     },
     "execution_count": 13,
     "metadata": {},
     "output_type": "execute_result"
    }
   ],
   "source": [
    "get_max_information_gain(data[\"Height\"], data[\"Obese\"])"
   ]
  },
  {
   "cell_type": "markdown",
   "id": "a74faf47",
   "metadata": {},
   "source": [
    "To verify, we can plot the information gain for each split value:\n"
   ]
  },
  {
   "cell_type": "code",
   "execution_count": 14,
   "id": "8d36f64a-0ac8-4556-a9a1-93b0150dca28",
   "metadata": {},
   "outputs": [
    {
     "data": {
      "text/plain": [
       "Text(0, 0.5, 'Information Gain')"
      ]
     },
     "execution_count": 14,
     "metadata": {},
     "output_type": "execute_result"
    },
    {
     "data": {
      "image/png": "[encoded data removed]",
      "text/plain": [
       "<Figure size 640x480 with 1 Axes>"
      ]
     },
     "metadata": {},
     "output_type": "display_data"
    }
   ],
   "source": [
    "import matplotlib.pyplot as plt\n",
    "\n",
    "values = data[\"Height\"].sort_values().unique()[1:]\n",
    "information_gains = [\n",
    "    get_information_gain(data[\"Height\"], data[\"Height\"] < value) for value in values\n",
    "]\n",
    "\n",
    "fig, ax = plt.subplots()\n",
    "ax.plot(values, information_gains)\n",
    "ax.set_xlabel(\"Height\")\n",
    "ax.set_ylabel(\"Information Gain\")"
   ]
  },
  {
   "cell_type": "markdown",
   "id": "94509857",
   "metadata": {},
   "source": [
    "Now we can calculate the highest information gain for each feature, we'll write a function to iterate across all feature columns, calculate the best split for each, and then return the best split overall:\n"
   ]
  },
  {
   "cell_type": "code",
   "execution_count": 15,
   "id": "bab774ed-4221-47c6-b40d-9d36727dc275",
   "metadata": {},
   "outputs": [],
   "source": [
    "def get_best_split(df, y):\n",
    "    column_max_information_gains = [\n",
    "        {\"column_name\": column, **get_max_information_gain(df[column], df[y])}\n",
    "        for column in df.columns\n",
    "        if column != y  # We don't want to split on the target variable\n",
    "    ]\n",
    "    best_split_info = sorted(\n",
    "        column_max_information_gains, key=lambda x: x[\"information_gain\"]\n",
    "    )[-1]\n",
    "    return best_split_info"
   ]
  },
  {
   "cell_type": "markdown",
   "id": "f64351cb",
   "metadata": {},
   "source": [
    "We can use this to find out that the best split for the initial data is splitting at weight >= 103 kg.\n"
   ]
  },
  {
   "cell_type": "code",
   "execution_count": 16,
   "id": "95c37e9f-4bcf-4952-adf2-7596ca996337",
   "metadata": {},
   "outputs": [
    {
     "data": {
      "text/plain": [
       "{'column_name': 'Weight',\n",
       " 'split_value': 103,\n",
       " 'information_gain': 0.3824541370911896,\n",
       " 'is_numeric': True}"
      ]
     },
     "execution_count": 16,
     "metadata": {},
     "output_type": "execute_result"
    }
   ],
   "source": [
    "split_info = get_best_split(data, \"Obese\")\n",
    "\n",
    "split_info"
   ]
  },
  {
   "cell_type": "markdown",
   "id": "ea75242b",
   "metadata": {},
   "source": [
    "The last of the helper functions is to use the information about the best split to actually split the data:\n"
   ]
  },
  {
   "cell_type": "code",
   "execution_count": 17,
   "id": "bd999326",
   "metadata": {},
   "outputs": [],
   "source": [
    "def make_split(df, split_info):\n",
    "    column_name = split_info[\"column_name\"]\n",
    "    split_value = split_info[\"split_value\"]\n",
    "    is_numeric = split_info[\"is_numeric\"]\n",
    "    assert is_numeric == (df[column_name].dtype != \"object\")\n",
    "    if is_numeric:\n",
    "        mask = df[column_name] < split_value\n",
    "    else:\n",
    "        mask = df[column_name].isin(split_value)\n",
    "    df_left = df[mask]\n",
    "    df_right = df[~mask]\n",
    "    return df_left, df_right"
   ]
  },
  {
   "cell_type": "markdown",
   "id": "7976b84a",
   "metadata": {},
   "source": [
    "Splitting at weight >= 103 kg gives us two subsets of data. We can see that there are 229 and 271 examples in each split. With 229 in the _left_ split, where weight < 103 kg, and 271 in the _right_ split, where weight >= 103 kg.\n"
   ]
  },
  {
   "cell_type": "code",
   "execution_count": 18,
   "id": "ab56bf34-954c-4945-ba4b-011e02f3df3d",
   "metadata": {},
   "outputs": [
    {
     "data": {
      "text/plain": [
       "(500, 229, 271)"
      ]
     },
     "execution_count": 18,
     "metadata": {},
     "output_type": "execute_result"
    }
   ],
   "source": [
    "left, right = make_split(data, split_info)\n",
    "\n",
    "len(data), len(left), len(right)"
   ]
  },
  {
   "cell_type": "markdown",
   "id": "f7951c7b",
   "metadata": {},
   "source": [
    "We can split each each of these subsets, and then split the resulting subsets, and so on, until we reach some stopping criteria, which is how we build our decision tree.\n"
   ]
  },
  {
   "cell_type": "code",
   "execution_count": 19,
   "id": "b7c5a98d-1e93-4c65-814b-310918998588",
   "metadata": {},
   "outputs": [
    {
     "data": {
      "text/plain": [
       "{'column_name': 'Height',\n",
       " 'split_value': 178,\n",
       " 'information_gain': 0.28026630900174687,\n",
       " 'is_numeric': True}"
      ]
     },
     "execution_count": 19,
     "metadata": {},
     "output_type": "execute_result"
    }
   ],
   "source": [
    "split_info = get_best_split(left, \"Obese\")\n",
    "\n",
    "split_info"
   ]
  },
  {
   "cell_type": "code",
   "execution_count": 20,
   "id": "93f9aa35-eac3-4a21-8cc7-361b01dcd678",
   "metadata": {},
   "outputs": [
    {
     "data": {
      "text/plain": [
       "{'column_name': 'Weight',\n",
       " 'split_value': 116,\n",
       " 'information_gain': 0.09289094500737183,\n",
       " 'is_numeric': True}"
      ]
     },
     "execution_count": 20,
     "metadata": {},
     "output_type": "execute_result"
    }
   ],
   "source": [
    "split_info = get_best_split(right, \"Obese\")\n",
    "\n",
    "split_info"
   ]
  },
  {
   "cell_type": "markdown",
   "id": "84c32d6e",
   "metadata": {},
   "source": [
    "We define a `DecisionNode` class which will represent the nodes in our decision tree. Each node contains information about the split (the column, value, if it was numeric), the left and right children nodes, if the tree is classification or regression, and the predicted label (only when the node is a leaf node).\n"
   ]
  },
  {
   "cell_type": "code",
   "execution_count": 21,
   "id": "5b1c4f58",
   "metadata": {},
   "outputs": [],
   "source": [
    "class DecisionNode:\n",
    "    def __init__(\n",
    "        self,\n",
    "        column,\n",
    "        split_value,\n",
    "        is_numeric,\n",
    "        left,\n",
    "        right,\n",
    "        is_classification,\n",
    "        prediction,\n",
    "    ):\n",
    "        self.column = column\n",
    "        self.split_value = split_value\n",
    "        self.is_numeric = is_numeric\n",
    "        self.left = left\n",
    "        self.right = right\n",
    "        self.is_classification = is_classification\n",
    "        self.prediction = prediction\n",
    "\n",
    "    def __repr__(self, depth=0, indent=\"    \"):\n",
    "        # Print the tree structure\n",
    "        prefix = depth * indent\n",
    "        if self.is_leaf():\n",
    "            return f\"{prefix}Leaf(prediction={self.prediction})\"\n",
    "        description = f\"{prefix}DecisionNode(column={self.column}, split_value={self.split_value}, is_numeric={self.is_numeric})\\n\"\n",
    "        if self.left:\n",
    "            description += f\"{prefix}left:\\n{self.left.__repr__(depth + 1, indent)}\\n\"\n",
    "        if self.right:\n",
    "            description += f\"{prefix}right:\\n{self.right.__repr__(depth + 1, indent)}\"\n",
    "        return description\n",
    "\n",
    "    def is_leaf(self):\n",
    "        # If a node has no left and right children, it is a leaf node\n",
    "        return self.left is None and self.right is None"
   ]
  },
  {
   "cell_type": "markdown",
   "id": "877f15b5",
   "metadata": {},
   "source": [
    "Finally, we want to build our tree, which we do by recursively splitting the data until we reach some stopping criteria. When we reach a stopping criteria, we create a leaf node that makes a prediction. If it's a classification problem, we predict the most common class in the subset of data, and if it's a regression problem, we predict the mean of the subset of data. Our `build_tree` function is wrapped in a `train_decision_tree` function which builds the tree from a depth of zero and returns the tree itself.\n",
    "\n",
    "The stopping criteria we'll use are:\n",
    "\n",
    "-   Maximum depth: the maximum number of splits we want to make\n",
    "-   Minimum samples: the minimum number of samples we want to have in a node before we stop splitting\n",
    "-   Minimum information gain: the minimum information gain we want to have before we stop splitting\n"
   ]
  },
  {
   "cell_type": "code",
   "execution_count": 22,
   "id": "2efe3f4d-891c-463b-899c-80597cc15f9d",
   "metadata": {},
   "outputs": [],
   "source": [
    "def build_tree(\n",
    "    df, y, depth, max_depth, min_samples_split, min_information_gain, is_classification\n",
    "):\n",
    "    # Check if we have reached the maximum depth\n",
    "    if depth >= max_depth:\n",
    "        return create_leaf_node(df, y, is_classification)\n",
    "\n",
    "    # Check if we have reached the minimum number of samples required to split\n",
    "    if len(df) < min_samples_split:\n",
    "        return create_leaf_node(df, y, is_classification)\n",
    "\n",
    "    # Get the best split\n",
    "    split_info = get_best_split(df, y)\n",
    "\n",
    "    # Check if the best split has enough information gain\n",
    "    if split_info[\"information_gain\"] < min_information_gain:\n",
    "        return create_leaf_node(df, y, is_classification)\n",
    "\n",
    "    # Make the split\n",
    "    df_left, df_right = make_split(df, split_info)\n",
    "\n",
    "    # Build the left and right subtrees\n",
    "    subtree_left = build_tree(\n",
    "        df_left,\n",
    "        y,\n",
    "        depth + 1,\n",
    "        max_depth,\n",
    "        min_samples_split,\n",
    "        min_information_gain,\n",
    "        is_classification,\n",
    "    )\n",
    "\n",
    "    subtree_right = build_tree(\n",
    "        df_right,\n",
    "        y,\n",
    "        depth + 1,\n",
    "        max_depth,\n",
    "        min_samples_split,\n",
    "        min_information_gain,\n",
    "        is_classification,\n",
    "    )\n",
    "\n",
    "    # Make the decision node\n",
    "    return DecisionNode(\n",
    "        column=split_info[\"column_name\"],\n",
    "        split_value=split_info[\"split_value\"],\n",
    "        is_numeric=split_info[\"is_numeric\"],\n",
    "        left=subtree_left,\n",
    "        right=subtree_right,\n",
    "        is_classification=is_classification,\n",
    "        prediction=None,\n",
    "    )\n",
    "\n",
    "\n",
    "def create_leaf_node(df, y, is_classification):\n",
    "    # If it is a classification problem, we return the mode of the target variable\n",
    "    if is_classification:\n",
    "        prediction = df[y].mode()[0]\n",
    "    # If it is a regression problem, we return the mean of the target variable\n",
    "    else:\n",
    "        prediction = df[y].mean()\n",
    "\n",
    "    return DecisionNode(\n",
    "        column=None,\n",
    "        split_value=None,\n",
    "        is_numeric=None,\n",
    "        left=None,\n",
    "        right=None,\n",
    "        is_classification=is_classification,\n",
    "        prediction=prediction,\n",
    "    )\n",
    "\n",
    "\n",
    "def train_decision_tree(\n",
    "    df,\n",
    "    y,\n",
    "    max_depth,\n",
    "    min_samples_split,\n",
    "    min_information_gain,\n",
    "    is_classification,\n",
    "):\n",
    "    return build_tree(\n",
    "        df, y, 0, max_depth, min_samples_split, min_information_gain, is_classification\n",
    "    )"
   ]
  },
  {
   "cell_type": "markdown",
   "id": "544916ee",
   "metadata": {},
   "source": [
    "Now, we can specify which column is our label column, the values of our stopping criteria, and if our tree is doing classification or regression, then train our tree.\n",
    "\n",
    "Note: Ideally we should use be using a train/validation/test splits of our data, but for simplicity here we'll just train on the entire dataset.\n"
   ]
  },
  {
   "cell_type": "code",
   "execution_count": 23,
   "id": "2d65d461-a722-4be1-b949-57490c926f0d",
   "metadata": {},
   "outputs": [],
   "source": [
    "y = \"Obese\"\n",
    "max_depth = 10\n",
    "min_samples_split = 2\n",
    "min_information_gain = 0.1\n",
    "is_classification = True\n",
    "\n",
    "tree = train_decision_tree(\n",
    "    data,\n",
    "    y,\n",
    "    max_depth,\n",
    "    min_samples_split,\n",
    "    min_information_gain,\n",
    "    is_classification,\n",
    ")"
   ]
  },
  {
   "cell_type": "markdown",
   "id": "fdaae4e6",
   "metadata": {},
   "source": [
    "We can also see the individual splits in our tree. We can see that the first split was at weight >= 103 kg, the left split from that (where weight < 103 kg) was split at height >= 178, and the right split (where weight >= 103 kg) was already a leaf node.\n"
   ]
  },
  {
   "cell_type": "code",
   "execution_count": 24,
   "id": "47d36982-6371-4355-92e3-e4b70a5a97d1",
   "metadata": {},
   "outputs": [
    {
     "data": {
      "text/plain": [
       "DecisionNode(column=Weight, split_value=103, is_numeric=True)\n",
       "left:\n",
       "    DecisionNode(column=Height, split_value=178, is_numeric=True)\n",
       "    left:\n",
       "        DecisionNode(column=Weight, split_value=66, is_numeric=True)\n",
       "        left:\n",
       "            Leaf(prediction=0)\n",
       "        right:\n",
       "            DecisionNode(column=Height, split_value=151, is_numeric=True)\n",
       "            left:\n",
       "                DecisionNode(column=Weight, split_value=67, is_numeric=True)\n",
       "                left:\n",
       "                    DecisionNode(column=Height, split_value=149, is_numeric=True)\n",
       "                    left:\n",
       "                        Leaf(prediction=1)\n",
       "                    right:\n",
       "                        Leaf(prediction=0)\n",
       "                right:\n",
       "                    Leaf(prediction=1)\n",
       "            right:\n",
       "                DecisionNode(column=Weight, split_value=82, is_numeric=True)\n",
       "                left:\n",
       "                    DecisionNode(column=Height, split_value=161, is_numeric=True)\n",
       "                    left:\n",
       "                        DecisionNode(column=Weight, split_value=74, is_numeric=True)\n",
       "                        left:\n",
       "                            Leaf(prediction=0)\n",
       "                        right:\n",
       "                            DecisionNode(column=Height, split_value=154, is_numeric=True)\n",
       "                            left:\n",
       "                                DecisionNode(column=Weight, split_value=78, is_numeric=True)\n",
       "                                left:\n",
       "                                    Leaf(prediction=1)\n",
       "                                right:\n",
       "                                    Leaf(prediction=0)\n",
       "                            right:\n",
       "                                Leaf(prediction=1)\n",
       "                    right:\n",
       "                        Leaf(prediction=0)\n",
       "                right:\n",
       "                    DecisionNode(column=Height, split_value=173, is_numeric=True)\n",
       "                    left:\n",
       "                        Leaf(prediction=1)\n",
       "                    right:\n",
       "                        DecisionNode(column=Weight, split_value=95, is_numeric=True)\n",
       "                        left:\n",
       "                            Leaf(prediction=0)\n",
       "                        right:\n",
       "                            Leaf(prediction=1)\n",
       "    right:\n",
       "        Leaf(prediction=0)\n",
       "right:\n",
       "    Leaf(prediction=1)"
      ]
     },
     "execution_count": 24,
     "metadata": {},
     "output_type": "execute_result"
    }
   ],
   "source": [
    "tree"
   ]
  },
  {
   "cell_type": "markdown",
   "id": "dfecefca",
   "metadata": {},
   "source": [
    "We can make predictions with our tree by recursively traversing the tree with our input data until we hit a leaf node, and then returning the prediction at that leaf node.\n"
   ]
  },
  {
   "cell_type": "code",
   "execution_count": 25,
   "id": "fdf0165f-8568-4241-bb2e-2a7f76f85114",
   "metadata": {},
   "outputs": [],
   "source": [
    "def _predict_tree(tree, example):\n",
    "    if tree.is_leaf():\n",
    "        return tree.prediction\n",
    "    if tree.is_numeric:\n",
    "        if example[tree.column] < tree.split_value:\n",
    "            return _predict_tree(tree.left, example)\n",
    "        else:\n",
    "            return _predict_tree(tree.right, example)\n",
    "    else:\n",
    "        if example[tree.column] in tree.split_value:\n",
    "            return _predict_tree(tree.left, example)\n",
    "        else:\n",
    "            return _predict_tree(tree.right, example)\n",
    "\n",
    "\n",
    "def predict_tree(tree, x):\n",
    "    if isinstance(x, pd.Series):\n",
    "        return _predict_tree(tree, x)\n",
    "    else:\n",
    "        assert isinstance(x, pd.DataFrame)\n",
    "        return x.apply(lambda row: _predict_tree(tree, row), axis=1)"
   ]
  },
  {
   "cell_type": "markdown",
   "id": "fd30f784",
   "metadata": {},
   "source": [
    "We can make a prediction for a single example:\n"
   ]
  },
  {
   "cell_type": "code",
   "execution_count": 26,
   "id": "9216abe0-da28-4218-9edf-1d47aef2455f",
   "metadata": {},
   "outputs": [
    {
     "data": {
      "text/plain": [
       "Gender    Male\n",
       "Height     174\n",
       "Weight      96\n",
       "Obese        1\n",
       "Name: 0, dtype: object"
      ]
     },
     "execution_count": 26,
     "metadata": {},
     "output_type": "execute_result"
    }
   ],
   "source": [
    "example = data.iloc[0]\n",
    "\n",
    "example"
   ]
  },
  {
   "cell_type": "code",
   "execution_count": 27,
   "id": "aa2f778c-1610-4d84-84ec-9917feb9b128",
   "metadata": {},
   "outputs": [
    {
     "data": {
      "text/plain": [
       "1"
      ]
     },
     "execution_count": 27,
     "metadata": {},
     "output_type": "execute_result"
    }
   ],
   "source": [
    "predict_tree(tree, example)"
   ]
  },
  {
   "cell_type": "markdown",
   "id": "6815b364",
   "metadata": {},
   "source": [
    "We can also make predictions for all of the examples in the DataFrame:\n"
   ]
  },
  {
   "cell_type": "code",
   "execution_count": 28,
   "id": "8550a121-307f-4226-9e4a-b045c34394ee",
   "metadata": {},
   "outputs": [],
   "source": [
    "predictions = predict_tree(tree, data)"
   ]
  },
  {
   "cell_type": "code",
   "execution_count": 29,
   "id": "b453fabd-5f84-44b9-ac13-7b6f6394c032",
   "metadata": {},
   "outputs": [
    {
     "data": {
      "text/plain": [
       "0      1\n",
       "1      0\n",
       "2      1\n",
       "3      1\n",
       "4      0\n",
       "      ..\n",
       "495    1\n",
       "496    1\n",
       "497    1\n",
       "498    1\n",
       "499    1\n",
       "Length: 500, dtype: int64"
      ]
     },
     "execution_count": 29,
     "metadata": {},
     "output_type": "execute_result"
    }
   ],
   "source": [
    "predictions"
   ]
  },
  {
   "cell_type": "markdown",
   "id": "98697df0",
   "metadata": {},
   "source": [
    "We can see that our predictions are not 100% accurate, even though we trained our tree on the entire dataset. This is because our tree is overfitting the data.\n"
   ]
  },
  {
   "cell_type": "code",
   "execution_count": 30,
   "id": "d2926d7e-ae58-42a0-bb14-e6da06f7840f",
   "metadata": {},
   "outputs": [
    {
     "data": {
      "text/plain": [
       "487"
      ]
     },
     "execution_count": 30,
     "metadata": {},
     "output_type": "execute_result"
    }
   ],
   "source": [
    "(predictions == data[\"Obese\"]).sum()"
   ]
  },
  {
   "cell_type": "code",
   "execution_count": 31,
   "id": "c8b540c3-7f17-42ff-b01a-30f8918d59d3",
   "metadata": {},
   "outputs": [],
   "source": [
    "errors = data[data[\"Obese\"] != predictions]"
   ]
  },
  {
   "cell_type": "code",
   "execution_count": 32,
   "id": "379aa34a-566a-4b34-a3fa-108488b7b5ff",
   "metadata": {},
   "outputs": [
    {
     "data": {
      "text/html": [
       "<div>\n",
       "<style scoped>\n",
       "    .dataframe tbody tr th:only-of-type {\n",
       "        vertical-align: middle;\n",
       "    }\n",
       "\n",
       "    .dataframe tbody tr th {\n",
       "        vertical-align: top;\n",
       "    }\n",
       "\n",
       "    .dataframe thead th {\n",
       "        text-align: right;\n",
       "    }\n",
       "</style>\n",
       "<table border=\"1\" class=\"dataframe\">\n",
       "  <thead>\n",
       "    <tr style=\"text-align: right;\">\n",
       "      <th></th>\n",
       "      <th>Gender</th>\n",
       "      <th>Height</th>\n",
       "      <th>Weight</th>\n",
       "      <th>Obese</th>\n",
       "    </tr>\n",
       "  </thead>\n",
       "  <tbody>\n",
       "    <tr>\n",
       "      <th>3</th>\n",
       "      <td>Female</td>\n",
       "      <td>195</td>\n",
       "      <td>104</td>\n",
       "      <td>0</td>\n",
       "    </tr>\n",
       "    <tr>\n",
       "      <th>5</th>\n",
       "      <td>Male</td>\n",
       "      <td>189</td>\n",
       "      <td>104</td>\n",
       "      <td>0</td>\n",
       "    </tr>\n",
       "    <tr>\n",
       "      <th>36</th>\n",
       "      <td>Female</td>\n",
       "      <td>197</td>\n",
       "      <td>114</td>\n",
       "      <td>0</td>\n",
       "    </tr>\n",
       "    <tr>\n",
       "      <th>82</th>\n",
       "      <td>Female</td>\n",
       "      <td>190</td>\n",
       "      <td>105</td>\n",
       "      <td>0</td>\n",
       "    </tr>\n",
       "    <tr>\n",
       "      <th>92</th>\n",
       "      <td>Female</td>\n",
       "      <td>194</td>\n",
       "      <td>111</td>\n",
       "      <td>0</td>\n",
       "    </tr>\n",
       "    <tr>\n",
       "      <th>137</th>\n",
       "      <td>Male</td>\n",
       "      <td>194</td>\n",
       "      <td>108</td>\n",
       "      <td>0</td>\n",
       "    </tr>\n",
       "    <tr>\n",
       "      <th>146</th>\n",
       "      <td>Male</td>\n",
       "      <td>194</td>\n",
       "      <td>106</td>\n",
       "      <td>0</td>\n",
       "    </tr>\n",
       "    <tr>\n",
       "      <th>149</th>\n",
       "      <td>Female</td>\n",
       "      <td>168</td>\n",
       "      <td>115</td>\n",
       "      <td>0</td>\n",
       "    </tr>\n",
       "    <tr>\n",
       "      <th>184</th>\n",
       "      <td>Female</td>\n",
       "      <td>192</td>\n",
       "      <td>108</td>\n",
       "      <td>0</td>\n",
       "    </tr>\n",
       "    <tr>\n",
       "      <th>291</th>\n",
       "      <td>Male</td>\n",
       "      <td>183</td>\n",
       "      <td>105</td>\n",
       "      <td>0</td>\n",
       "    </tr>\n",
       "    <tr>\n",
       "      <th>296</th>\n",
       "      <td>Female</td>\n",
       "      <td>169</td>\n",
       "      <td>88</td>\n",
       "      <td>0</td>\n",
       "    </tr>\n",
       "    <tr>\n",
       "      <th>400</th>\n",
       "      <td>Female</td>\n",
       "      <td>195</td>\n",
       "      <td>104</td>\n",
       "      <td>0</td>\n",
       "    </tr>\n",
       "    <tr>\n",
       "      <th>469</th>\n",
       "      <td>Male</td>\n",
       "      <td>198</td>\n",
       "      <td>109</td>\n",
       "      <td>0</td>\n",
       "    </tr>\n",
       "  </tbody>\n",
       "</table>\n",
       "</div>"
      ],
      "text/plain": [
       "     Gender  Height  Weight  Obese\n",
       "3    Female     195     104      0\n",
       "5      Male     189     104      0\n",
       "36   Female     197     114      0\n",
       "82   Female     190     105      0\n",
       "92   Female     194     111      0\n",
       "137    Male     194     108      0\n",
       "146    Male     194     106      0\n",
       "149  Female     168     115      0\n",
       "184  Female     192     108      0\n",
       "291    Male     183     105      0\n",
       "296  Female     169      88      0\n",
       "400  Female     195     104      0\n",
       "469    Male     198     109      0"
      ]
     },
     "execution_count": 32,
     "metadata": {},
     "output_type": "execute_result"
    }
   ],
   "source": [
    "errors"
   ]
  },
  {
   "cell_type": "markdown",
   "id": "9fb245e2",
   "metadata": {},
   "source": [
    "Next, we'll build a random forest. A random forest is an ensemble of decision trees. We train multiple decision trees each using a _bootstrapped_ version of the original dataset. In other words, each tree is trained on a dataset which is the same size (number of examples) as the original data but the examples are sampled from the original dataset with replacement. This technique is called _bagging_ (or _bootstrap aggregating_).\n",
    "\n",
    "After we've trained the trees (a forest) we can use them to make predictions. For classification problems, we use the most common prediction from all the trees, and for regression problems, we use the mean prediction from all the trees.\n"
   ]
  },
  {
   "cell_type": "code",
   "execution_count": 33,
   "id": "981dc982-88de-4f50-bbe9-5e06e9a60a90",
   "metadata": {},
   "outputs": [],
   "source": [
    "import tqdm\n",
    "\n",
    "\n",
    "def train_random_forest(\n",
    "    data,\n",
    "    y,\n",
    "    n_trees=10,\n",
    "    max_depth=2,\n",
    "    min_samples_split=2,\n",
    "    min_information_gain=0.01,\n",
    "    is_classification=True,\n",
    "):\n",
    "    trees = []\n",
    "    for _ in tqdm.tqdm(range(n_trees)):\n",
    "        # Bootstrap sample the data\n",
    "        sample = data.sample(frac=1, replace=True)\n",
    "        # Train a decision tree on the bootstrapped sample\n",
    "        tree = train_decision_tree(\n",
    "            sample,\n",
    "            y,\n",
    "            max_depth,\n",
    "            min_samples_split,\n",
    "            min_information_gain,\n",
    "            is_classification,\n",
    "        )\n",
    "        trees.append(tree)\n",
    "    return trees"
   ]
  },
  {
   "cell_type": "markdown",
   "id": "df55d464",
   "metadata": {},
   "source": [
    "We'll train our forest, which consists of 25 trees, using the same stopping criteria as before:\n"
   ]
  },
  {
   "cell_type": "code",
   "execution_count": 34,
   "id": "29b65fc1-5390-44de-91bd-bf7f675cbacd",
   "metadata": {},
   "outputs": [
    {
     "name": "stderr",
     "output_type": "stream",
     "text": [
      "100%|███████████████████████████████████████████| 25/25 [00:33<00:00,  1.32s/it]\n"
     ]
    }
   ],
   "source": [
    "y = \"Obese\"\n",
    "n_trees = 25\n",
    "max_depth = 10\n",
    "min_samples_split = 2\n",
    "min_information_gain = 0.1\n",
    "is_classification = True\n",
    "\n",
    "forest = train_random_forest(\n",
    "    data,\n",
    "    y,\n",
    "    n_trees,\n",
    "    max_depth,\n",
    "    min_samples_split,\n",
    "    min_information_gain,\n",
    "    is_classification,\n",
    ")"
   ]
  },
  {
   "cell_type": "markdown",
   "id": "f36cd567",
   "metadata": {},
   "source": [
    "Finally, we'll define functions the make our predictions:\n"
   ]
  },
  {
   "cell_type": "code",
   "execution_count": 35,
   "id": "c8fe3689",
   "metadata": {},
   "outputs": [],
   "source": [
    "def _predict_forest(forest, x):\n",
    "    predictions = [predict_tree(tree, x) for tree in forest]\n",
    "    is_classification = forest[0].is_classification\n",
    "    if is_classification:\n",
    "        return max(set(predictions), key=predictions.count)\n",
    "    else:\n",
    "        return np.mean(predictions)\n",
    "\n",
    "\n",
    "def predict_forest(forest, x):\n",
    "    if isinstance(x, pd.Series):\n",
    "        return _predict_forest(forest, x)\n",
    "    else:\n",
    "        assert isinstance(x, pd.DataFrame)\n",
    "        return x.apply(lambda row: _predict_forest(forest, row), axis=1)"
   ]
  },
  {
   "cell_type": "markdown",
   "id": "49ada6d3",
   "metadata": {},
   "source": [
    "We can predict on one sample:\n"
   ]
  },
  {
   "cell_type": "code",
   "execution_count": 36,
   "id": "55ff72d0",
   "metadata": {},
   "outputs": [
    {
     "data": {
      "text/plain": [
       "1"
      ]
     },
     "execution_count": 36,
     "metadata": {},
     "output_type": "execute_result"
    }
   ],
   "source": [
    "predict_forest(forest, example)"
   ]
  },
  {
   "cell_type": "markdown",
   "id": "52c8ac1f",
   "metadata": {},
   "source": [
    "And we can also predict on the entire DataFrame, and see that our predictions are more accurate than using a single decision tree (2 errors vs 13):\n"
   ]
  },
  {
   "cell_type": "code",
   "execution_count": 37,
   "id": "55cd1c00",
   "metadata": {},
   "outputs": [
    {
     "data": {
      "text/plain": [
       "498"
      ]
     },
     "execution_count": 37,
     "metadata": {},
     "output_type": "execute_result"
    }
   ],
   "source": [
    "(predict_forest(forest, data) == data[\"Obese\"]).sum()"
   ]
  },
  {
   "cell_type": "markdown",
   "id": "38e69b9c-bafe-4429-bf6b-662a1a8d2430",
   "metadata": {},
   "source": [
    "As we can see, random forests are a small extension (both conceptually and in code) to decision trees, but significantly improve their performance. For using random forests in actual code, I'd recommend [scikit-learn](https://scikit-learn.org/stable/modules/generated/sklearn.ensemble.RandomForestClassifier.html) or [xgboost](https://xgboost.readthedocs.io/en/stable/index.html)/[catboost](https://catboost.ai/en/docs/) (both of which are not actually random forests but work in a similar way -- by using an ensemble of decision trees)."
   ]
  }
 ],
 "metadata": {
  "kernelspec": {
   "display_name": "Python 3 (ipykernel)",
   "language": "python",
   "name": "python3"
  },
  "language_info": {
   "codemirror_mode": {
    "name": "ipython",
    "version": 3
   },
   "file_extension": ".py",
   "mimetype": "text/x-python",
   "name": "python",
   "nbconvert_exporter": "python",
   "pygments_lexer": "ipython3",
   "version": "3.9.12"
  }
 },
 "nbformat": 4,
 "nbformat_minor": 5
}
