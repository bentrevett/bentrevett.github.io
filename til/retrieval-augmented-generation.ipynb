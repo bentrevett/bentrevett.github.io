{
 "cells": [
  {
   "cell_type": "markdown",
   "id": "9f3a4ca0-1161-41b3-a586-f5970b1c330e",
   "metadata": {},
   "source": [
    "# Retrieval Augmented Generation\n",
    "\n",
    "Retrieval augmented generation (RAG) is a method of adapting LLM (large language model) text generation by giving the model access to external data sources, e.g. PDFs, transcripts, web pages, internal documentation, etc.\n",
    "\n",
    "One common example of this is asking a LLM questions about a document (or set of documents). Here, we'll ask questions about a specific web page, Paul Graham's \"How to Do Great Work\" article, found [here](http://www.paulgraham.com/greatwork.html).\n",
    "\n",
    "Generally, RAG works in two main steps:\n",
    "- Given a query, *retrieve* the relevant information from the document(s)\n",
    "- Use the retrieved information to generate text\n",
    "\n",
    "## Retrieving Information\n",
    "\n",
    "The first thing we need to do is get the text from the web page. We grab the actual HTML content using `requests` and then parse the HTML using [BeautifulSoup](https://www.crummy.com/software/BeautifulSoup/bs4/doc/)."
   ]
  },
  {
   "cell_type": "code",
   "execution_count": 1,
   "id": "d6413161-68b1-4c0f-9e59-ef38567928e3",
   "metadata": {},
   "outputs": [],
   "source": [
    "import requests\n",
    "from bs4 import BeautifulSoup\n",
    "\n",
    "url = \"http://www.paulgraham.com/greatwork.html\"\n",
    "\n",
    "page = requests.get(url)\n",
    "soup = BeautifulSoup(page.text, \"html.parser\")"
   ]
  },
  {
   "cell_type": "markdown",
   "id": "87eef43b-58c5-422b-bccf-5795debd0552",
   "metadata": {},
   "source": [
    "We can get the actual text from the parsed HTML using the `get_text` method:"
   ]
  },
  {
   "cell_type": "code",
   "execution_count": 2,
   "id": "7f8ad3bb-8305-4d1f-9c13-cccc08a683ef",
   "metadata": {},
   "outputs": [],
   "source": [
    "text = soup.body.get_text()"
   ]
  },
  {
   "cell_type": "code",
   "execution_count": 3,
   "id": "878be1e4-9f63-4f7e-b68e-03abe88f010b",
   "metadata": {},
   "outputs": [
    {
     "data": {
      "text/plain": [
       "'July 2023If you collected lists of techniques for doing great work in a lot\\nof different fields, what would the intersection look like? I decided\\nto find out by making it.Partly my goal was to create a guide that could be used by someone\\nworking in any field. But I was also curious about the shape of the\\nintersection. And one thing this exercise shows is that it does\\nhave a definite shape; it\\'s not just a point labelled \"work hard.'"
      ]
     },
     "execution_count": 3,
     "metadata": {},
     "output_type": "execute_result"
    }
   ],
   "source": [
    "text[:435]"
   ]
  },
  {
   "cell_type": "markdown",
   "id": "ed3e6f8e-149c-4fe3-a802-8df4d00fe99b",
   "metadata": {},
   "source": [
    "Next, we'll parse the text into *chunks*. Each chunk is a piece of information that we can potentially retrieve, e.g. a sentence, a paragraph, a line, etc. \n",
    "\n",
    "There's no right or wrong way to chunk information. It all depends on your use-case. If the information you want to retrieve is generally in self-contained sentences, then you should probably chunk into sentences. If the information spans multiple sentences, you can either have chunks be three sentences long (they can be overlapping or not) or even entire paragraphs.\n",
    "\n",
    "Here, we'll parse the information into individual sentences by: \n",
    "- removing the date at the start of the article\n",
    "- removing newline characters\n",
    "- removing footnote indicators\n",
    "- splitting the text into sentences by assuming each sentence ends in \".\" or \"?\"\n",
    "- removing any empty strings"
   ]
  },
  {
   "cell_type": "code",
   "execution_count": 4,
   "id": "951dc35c-919d-4f75-9120-d5a3e874fb25",
   "metadata": {},
   "outputs": [],
   "source": [
    "import re\n",
    "\n",
    "text = text[9:]\n",
    "text = re.sub(\"\\n\", \" \", text)\n",
    "text = re.sub(\"\\[\\d+\\]\", \"\", text)\n",
    "chunks = [s.strip() for s in re.split(\"\\.|\\?\", text) if len(s.strip())]"
   ]
  },
  {
   "cell_type": "code",
   "execution_count": 5,
   "id": "1cc0ba01-381e-464a-b51e-cb78bb057e7e",
   "metadata": {},
   "outputs": [
    {
     "data": {
      "text/plain": [
       "758"
      ]
     },
     "execution_count": 5,
     "metadata": {},
     "output_type": "execute_result"
    }
   ],
   "source": [
    "len(chunks)"
   ]
  },
  {
   "cell_type": "code",
   "execution_count": 6,
   "id": "fe16fb37-efb7-4cc7-abec-411fae377c05",
   "metadata": {},
   "outputs": [
    {
     "name": "stdout",
     "output_type": "stream",
     "text": [
      "> If you collected lists of techniques for doing great work in a lot of different fields, what would the intersection look like\n",
      "> I decided to find out by making it\n",
      "> Partly my goal was to create a guide that could be used by someone working in any field\n",
      "> But I was also curious about the shape of the intersection\n",
      "> And one thing this exercise shows is that it does have a definite shape; it's not just a point labelled \"work hard\n"
     ]
    }
   ],
   "source": [
    "for chunk in chunks[:5]:\n",
    "    print(\">\", chunk)"
   ]
  },
  {
   "cell_type": "markdown",
   "id": "ceaa3019-af3c-4fca-acaf-95ea493b1c67",
   "metadata": {},
   "source": [
    "We have our chunks, but how do we retrieve \"relevant\" chunks from a query? Using pre-trained text embedding models!\n",
    "\n",
    "The models we want to use are those trained on sentence similarity tasks, i.e. they are trained to map similar sentences to nearby points in n-dimensional space. Conversely, disimilary sentences should be far away from each other in n-dimensional space.\n",
    "\n",
    "There's a very useful [leaderboard](https://huggingface.co/spaces/mteb/leaderboard) for text embedding models, however we'll use the `stencen-transformers/all-MiniLM-L6-v2` model because it generally works well and is relatively small with low inference time.\n",
    "\n",
    "The code below defines a `get_embeddings` function which tokenizes input sentences (list of strings), passes them through the model, pools them (to go from a `[batch size, sequence length, embedding dim.]` tensor to a `[batch size, embedding dim.]` tensor), and then normalizes the embeddings."
   ]
  },
  {
   "cell_type": "code",
   "execution_count": 7,
   "id": "431f2653-896e-4632-bfeb-0f3c99638d80",
   "metadata": {},
   "outputs": [],
   "source": [
    "import transformers\n",
    "import torch\n",
    "import torch.nn.functional as F\n",
    "\n",
    "model_name = \"sentence-transformers/all-MiniLM-L6-v2\"\n",
    "\n",
    "tokenizer = transformers.AutoTokenizer.from_pretrained(model_name)\n",
    "embedding_model = transformers.AutoModel.from_pretrained(model_name)\n",
    "\n",
    "def mean_pooling(last_hidden_state, attention_mask):\n",
    "    input_mask_expanded = attention_mask.unsqueeze(-1).expand(last_hidden_state.size()).float()\n",
    "    return torch.sum(last_hidden_state * input_mask_expanded, 1) / torch.clamp(input_mask_expanded.sum(1), min=1e-9)\n",
    "\n",
    "def get_embeddings(sentences, tokenizer, model):\n",
    "    if isinstance(sentences, str):\n",
    "        sentences = [sentences]\n",
    "    encoded_input = tokenizer(sentences, padding=True, truncation=True, return_tensors=\"pt\")\n",
    "    with torch.no_grad():\n",
    "        model_output = model(**encoded_input)\n",
    "    embeddings = mean_pooling(model_output.last_hidden_state, encoded_input[\"attention_mask\"])\n",
    "    embeddings = F.normalize(embeddings, p=2, dim=-1)\n",
    "    return embeddings"
   ]
  },
  {
   "cell_type": "markdown",
   "id": "15516924-5cea-4566-9dba-fe466c695e82",
   "metadata": {},
   "source": [
    "We then get the sentence embedding for each chunk in our document:"
   ]
  },
  {
   "cell_type": "code",
   "execution_count": 8,
   "id": "a1fd8456-7ddf-4c5d-a29f-0e447e3d6619",
   "metadata": {},
   "outputs": [],
   "source": [
    "chunk_embeddings = get_embeddings(chunks, tokenizer, embedding_model)"
   ]
  },
  {
   "cell_type": "code",
   "execution_count": 9,
   "id": "257112bc-e5d5-47da-8261-bdd10fe0ca55",
   "metadata": {},
   "outputs": [
    {
     "data": {
      "text/plain": [
       "torch.Size([758, 384])"
      ]
     },
     "execution_count": 9,
     "metadata": {},
     "output_type": "execute_result"
    }
   ],
   "source": [
    "chunk_embeddings.shape"
   ]
  },
  {
   "cell_type": "markdown",
   "id": "1683629b-b3e5-4f8d-b176-4ca67336a00a",
   "metadata": {},
   "source": [
    "Given a query, we calculate the sentence embedding for it:"
   ]
  },
  {
   "cell_type": "code",
   "execution_count": 10,
   "id": "c250d00e-6879-42b0-a584-7d076fb64697",
   "metadata": {},
   "outputs": [],
   "source": [
    "query = \"What should I work on?\"\n",
    "\n",
    "query_embedding = get_embeddings(query, tokenizer, embedding_model)"
   ]
  },
  {
   "cell_type": "code",
   "execution_count": 11,
   "id": "931fbfc7-a7f6-4497-a912-ae55e493e411",
   "metadata": {},
   "outputs": [
    {
     "data": {
      "text/plain": [
       "torch.Size([1, 384])"
      ]
     },
     "execution_count": 11,
     "metadata": {},
     "output_type": "execute_result"
    }
   ],
   "source": [
    "query_embedding.shape"
   ]
  },
  {
   "cell_type": "markdown",
   "id": "02d3314e-98b0-4f0e-b400-a27ff5370105",
   "metadata": {},
   "source": [
    "We then calculate similarity between the query embedding and the chunk embeddings.\n",
    "\n",
    "There's two ways we can do this. We can either use the cosine similarity, which gives us a value between -1 and +1 (higher = more similar) for each chunk embedding. Or, we can calculate it using the dot product. However, our embeddings are normalized (like they are in the `get_embeddings` function) then these two methods both give the same values!\n",
    "\n",
    "If the embeddings aren't normalized, then the dot product similarity takes the magnitude of the vectors into account, whilst cosine similarity doesn't. Will that matter in your case? It's hard to tell. Generally, dot product similarity is slightly cheaper to compute, but both are used in practice."
   ]
  },
  {
   "cell_type": "code",
   "execution_count": 12,
   "id": "ba6de813-10e3-4f94-9f79-34fc924c9f13",
   "metadata": {},
   "outputs": [],
   "source": [
    "cos_similarity = torch.cosine_similarity(query_embedding, chunk_embeddings)"
   ]
  },
  {
   "cell_type": "code",
   "execution_count": 13,
   "id": "522bac46-02a0-440f-bec0-d06905db7159",
   "metadata": {},
   "outputs": [],
   "source": [
    "dot_similarity = torch.mm(query_embedding, chunk_embeddings.T).squeeze(0)"
   ]
  },
  {
   "cell_type": "code",
   "execution_count": 14,
   "id": "e98582f3-7c04-4e69-a189-4cd76294d890",
   "metadata": {},
   "outputs": [
    {
     "data": {
      "text/plain": [
       "(torch.Size([758]), torch.Size([758]))"
      ]
     },
     "execution_count": 14,
     "metadata": {},
     "output_type": "execute_result"
    }
   ],
   "source": [
    "cos_similarity.shape, dot_similarity.shape"
   ]
  },
  {
   "cell_type": "code",
   "execution_count": 15,
   "id": "04f3e098-8faf-4c0a-be30-9ff7dfe8ce45",
   "metadata": {},
   "outputs": [
    {
     "data": {
      "text/plain": [
       "True"
      ]
     },
     "execution_count": 15,
     "metadata": {},
     "output_type": "execute_result"
    }
   ],
   "source": [
    "torch.allclose(cos_similarity, dot_similarity)"
   ]
  },
  {
   "cell_type": "markdown",
   "id": "116b8999-bc5b-4608-b0bd-f27bb9592903",
   "metadata": {},
   "source": [
    "**Note:** They're not actually equal, due to some numerical instability, but the most they are different by is around 1.2e-7, so a very small amount."
   ]
  },
  {
   "cell_type": "code",
   "execution_count": 16,
   "id": "f71fa2ab-2304-4497-921d-05ff97f0bd8f",
   "metadata": {},
   "outputs": [
    {
     "data": {
      "text/plain": [
       "tensor(1.1921e-07)"
      ]
     },
     "execution_count": 16,
     "metadata": {},
     "output_type": "execute_result"
    }
   ],
   "source": [
    "abs(dot_similarity - cos_similarity).max()"
   ]
  },
  {
   "cell_type": "markdown",
   "id": "df8d34f2-0f9e-40c2-9494-c019594f83ce",
   "metadata": {},
   "source": [
    "We now have a measure of how similar each chunk is to the query. We can then sort the similarities and get their indices, so `indices[0]` will be the index of the most similar chunk embedding (and thus the most similar chunk string)."
   ]
  },
  {
   "cell_type": "code",
   "execution_count": 17,
   "id": "a5fca753-3c7a-4602-909e-9b4803ae3e82",
   "metadata": {},
   "outputs": [],
   "source": [
    "indices = torch.argsort(cos_similarity, descending=True)"
   ]
  },
  {
   "cell_type": "markdown",
   "id": "5d67e378-4468-4bb7-9e7a-37aabc110937",
   "metadata": {},
   "source": [
    "However, we don't want to get just the single most similar chunk, as it might not contain enough (or any) information to help us answer our query. Just because the chunk is similar to the query, doesn't mean it will be useful for answering the query.\n",
    "\n",
    "Generally, we take the highest $k$ similarity chunks.\n",
    "\n",
    "Just like the size of the chunks, $k$ is something that should be tuned. If $k$ is too low, you risk not getting information relevant for answering the query. If $k$ is too high, you risk getting lots of irrelevant information which could cause you to answer the query incorrectly.\n",
    "\n",
    "There's also a balancing act between the size of the chunks, $k$, and the LLM's context size. The larger your chunks, the lower $k$ you can use for all the tokens to fit into the LLM's context. There is no single correct answer for setting $k$ and the size of your chunks, it all depends on your task and data.\n",
    "\n",
    "Below, we'll get the 10 most relevant chunks."
   ]
  },
  {
   "cell_type": "code",
   "execution_count": 18,
   "id": "52690d42-6548-4221-847a-6fda973867ad",
   "metadata": {},
   "outputs": [],
   "source": [
    "k = 10\n",
    "\n",
    "retrieved_chunks = [chunks[i.item()] for i in indices[:k]]"
   ]
  },
  {
   "cell_type": "code",
   "execution_count": 19,
   "id": "0444652b-e34b-45da-b869-c44c86300994",
   "metadata": {},
   "outputs": [
    {
     "data": {
      "text/plain": [
       "[\"If you're not sure what to work on, guess\",\n",
       " \"What should you do if you're young and ambitious but don't know what to work on\",\n",
       " 'The way to figure out what to work on is by working',\n",
       " 'The first step is to decide what to work on',\n",
       " \"If in the course of working on one thing you discover another that's more exciting, don't be afraid to switch\",\n",
       " 'Most people who do great work have a mix, and the more you have of the former, the harder it will be to decide what to do',\n",
       " 'The work you choose needs to have three qualities: it has to be something you have a natural aptitude for, that you have a deep interest in, and that offers scope to do great work',\n",
       " \"When you're young you don't know what you're good at or what different kinds of work are like\",\n",
       " 'What should your projects be',\n",
       " \"Let's talk a little more about the complicated business of figuring out what to work on\"]"
      ]
     },
     "execution_count": 19,
     "metadata": {},
     "output_type": "execute_result"
    }
   ],
   "source": [
    "retrieved_chunks"
   ]
  },
  {
   "cell_type": "markdown",
   "id": "acc0d6dc-5746-4975-9627-bb4f97c23e68",
   "metadata": {},
   "source": [
    "Now we have the chunks, we can format them into a prompt for the LLM. \n",
    "\n",
    "## Generating Text\n",
    "\n",
    "Generally, the prompt should provide the retrieved chunks and the query you want the LLM to answer. If you only want the LLM to answer the query using the retrieved chunks (and not it's \"internal knowledge\") then you should explicitly tell it to do so, as we do below. I also found it beneficial to tell the model not to mention the query was answered using extracted text or else the answers usually started with some variation of \"According to the extracted text...\".\n",
    "\n",
    "You'll most probably have to do plenty of prompt engineering here, so it's a good idea to collect a dataset of queries and answers to judge how good your prompt is. Going further, a dataset of queries and relevant chunks helps you evaluate your retrieval, allowing you to compare different text embedding models.\n",
    "\n",
    "Anway, let's build our prompt:"
   ]
  },
  {
   "cell_type": "code",
   "execution_count": 20,
   "id": "f51001b4-7710-41ad-b907-b8f2ce6d3b4d",
   "metadata": {},
   "outputs": [],
   "source": [
    "def get_prompt(query, retrieved_chunks):\n",
    "    prompt = \"Here's some text extracted from a document:\\n\"\n",
    "    for chunk in retrieved_chunks:\n",
    "        prompt += f\"- {chunk}\\n\"\n",
    "    prompt += \"\\n\"\n",
    "    prompt += \"Answer the following question by using the above extracted text only):\\n\"\n",
    "    prompt += query\n",
    "    prompt += \"\\n\"\n",
    "    prompt += \"Do not mention the query was answered using extracted text.\"\n",
    "    return prompt"
   ]
  },
  {
   "cell_type": "code",
   "execution_count": 21,
   "id": "2f97f8f1-6c89-46ae-99d9-37c5a69c3631",
   "metadata": {},
   "outputs": [
    {
     "name": "stdout",
     "output_type": "stream",
     "text": [
      "Here's some text extracted from a document:\n",
      "- If you're not sure what to work on, guess\n",
      "- What should you do if you're young and ambitious but don't know what to work on\n",
      "- The way to figure out what to work on is by working\n",
      "- The first step is to decide what to work on\n",
      "- If in the course of working on one thing you discover another that's more exciting, don't be afraid to switch\n",
      "- Most people who do great work have a mix, and the more you have of the former, the harder it will be to decide what to do\n",
      "- The work you choose needs to have three qualities: it has to be something you have a natural aptitude for, that you have a deep interest in, and that offers scope to do great work\n",
      "- When you're young you don't know what you're good at or what different kinds of work are like\n",
      "- What should your projects be\n",
      "- Let's talk a little more about the complicated business of figuring out what to work on\n",
      "\n",
      "Answer the following question by using the above extracted text only):\n",
      "What should I work on?\n",
      "Do not mention the query was answered using extracted text.\n"
     ]
    }
   ],
   "source": [
    "prompt = get_prompt(query, retrieved_chunks)\n",
    "\n",
    "print(prompt)"
   ]
  },
  {
   "cell_type": "markdown",
   "id": "b26e383e-7f1c-4daa-a590-4ecb9406a1c3",
   "metadata": {},
   "source": [
    "Finally, we pass the prompt to the LLM, here we use GPT-4, and receive our response:"
   ]
  },
  {
   "cell_type": "code",
   "execution_count": 22,
   "id": "1da6e330-f457-4c8c-900b-daf0cc3c8073",
   "metadata": {},
   "outputs": [],
   "source": [
    "import openai\n",
    "\n",
    "openai.api_key = \"YOUR_API_KEY_HERE\"\n",
    "\n",
    "response = openai.ChatCompletion.create(\n",
    "    model=\"gpt-4\",\n",
    "    messages=[{\"role\": \"user\", \"content\": prompt}],\n",
    "    temperature=0.0,\n",
    ")"
   ]
  },
  {
   "cell_type": "code",
   "execution_count": 23,
   "id": "7dbb9ed6-281f-4f3e-a632-4947bb89c301",
   "metadata": {},
   "outputs": [
    {
     "data": {
      "text/plain": [
       "\"You should work on something that you have a natural aptitude for, a deep interest in, and that offers scope to do great work. If you're unsure, start working on something and if in the course of working on one thing you discover another that's more exciting, don't be afraid to switch. The first step is to decide what to work on, and the way to figure that out is by actually working.\""
      ]
     },
     "execution_count": 23,
     "metadata": {},
     "output_type": "execute_result"
    }
   ],
   "source": [
    "response[\"choices\"][0][\"message\"][\"content\"]"
   ]
  },
  {
   "cell_type": "markdown",
   "id": "2ecba376-a75c-49fa-9d2c-24ddb0409d3b",
   "metadata": {},
   "source": [
    "Now, let's bundle the whole process of query/response into a single function:"
   ]
  },
  {
   "cell_type": "code",
   "execution_count": 24,
   "id": "d68b4a8d-4850-46a6-919c-afdaf1e0d70e",
   "metadata": {},
   "outputs": [],
   "source": [
    "def answer_query(query, tokenizer, model, chunk_embeddings, k):\n",
    "    query_embedding = get_embeddings(query, tokenizer, model)\n",
    "    similarity = torch.cosine_similarity(query_embedding, chunk_embeddings)\n",
    "    indices = torch.argsort(similarity, descending=True)\n",
    "    retrieved_chunks = [chunks[i.item()] for i in indices[:k]]\n",
    "    prompt = get_prompt(query, retrieved_chunks)\n",
    "    response = openai.ChatCompletion.create(\n",
    "        model=\"gpt-4\",\n",
    "        messages=[{\"role\": \"user\", \"content\": prompt}],\n",
    "        temperature=0.0,\n",
    "    )\n",
    "    return response[\"choices\"][0][\"message\"][\"content\"]"
   ]
  },
  {
   "cell_type": "code",
   "execution_count": 25,
   "id": "cf052324-4aa5-4ab7-b641-16e9c99c1a0a",
   "metadata": {},
   "outputs": [
    {
     "data": {
      "text/plain": [
       "\"Yes, you should take risks. It's important to take as much risk as you can afford, especially when you're young. Risk often comes with the fear of rejection and failure, but it's a necessary part of discovering new things. Sharing your ideas, despite the risk, can lead to new discoveries. Remember, in an efficient market, risk is proportionate to reward. So, instead of looking for certainty, look for a bet with high expected value.\""
      ]
     },
     "execution_count": 25,
     "metadata": {},
     "output_type": "execute_result"
    }
   ],
   "source": [
    "answer_query(\"Should I take risks?\", tokenizer, embedding_model, chunk_embeddings, k)"
   ]
  },
  {
   "cell_type": "markdown",
   "id": "77c27e63-29ed-46dd-aa2e-3909636f9b49",
   "metadata": {},
   "source": [
    "RAG is also a step towards giving LLMs the ability for providing attribution/citations as we can return the retrieved chunks to show a user what information was used to answer a query, and where that information came from.\n",
    "\n",
    "Note how you only need to create the chunk embeddings once per document. You may have heard of *vector databases* and companies such as [Pinecone](https://www.pinecone.io/), [Weaviate](https://weaviate.io/), [Chroma](https://www.trychroma.com/) (to name a few). What these companies do is allow you to upload your chunks and specify a model used to create text embeddings from your chunks. Then, you can send a query via their API and they will do similar to what we've done above in the retrieval step: find relevant chunks using your query. They do a little more than that, but that's basically how they work!"
   ]
  }
 ],
 "metadata": {
  "kernelspec": {
   "display_name": "Python 3 (ipykernel)",
   "language": "python",
   "name": "python3"
  },
  "language_info": {
   "codemirror_mode": {
    "name": "ipython",
    "version": 3
   },
   "file_extension": ".py",
   "mimetype": "text/x-python",
   "name": "python",
   "nbconvert_exporter": "python",
   "pygments_lexer": "ipython3",
   "version": "3.9.12"
  }
 },
 "nbformat": 4,
 "nbformat_minor": 5
}
